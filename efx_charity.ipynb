{
 "cells": [
  {
   "cell_type": "code",
   "execution_count": 14,
   "id": "f2473537",
   "metadata": {},
   "outputs": [
    {
     "name": "stdout",
     "output_type": "stream",
     "text": [
      "loaded efx algorithm\n"
     ]
    },
    {
     "name": "stdin",
     "output_type": "stream",
     "text": [
      "number of players:  3\n",
      "number of item types:  2\n",
      "number of items of each type (comma-separated):  40,40\n",
      "valuation for player 0 (comma-separated):  2,1\n",
      "valuation for player 1 (comma-separated):  1,5\n",
      "valuation for player 2 (comma-separated):  6,100\n"
     ]
    },
    {
     "name": "stdout",
     "output_type": "stream",
     "text": [
      "APPLIED U0\n",
      "APPLIED U0\n",
      "APPLIED U0\n",
      "APPLIED U0\n",
      "APPLIED U0\n",
      "APPLIED U0\n",
      "APPLIED U0\n",
      "APPLIED U0\n",
      "APPLIED U0\n",
      "APPLIED U0\n",
      "APPLIED U0\n",
      "APPLIED U0\n",
      "APPLIED U0\n",
      "APPLIED U0\n",
      "APPLIED U0\n",
      "APPLIED U0\n",
      "APPLIED U0\n",
      "APPLIED U0\n",
      "APPLIED U0\n",
      "APPLIED U0\n",
      "APPLIED U0\n",
      "APPLIED U0\n",
      "APPLIED U0\n",
      "APPLIED U0\n",
      "APPLIED U0\n",
      "APPLIED U0\n",
      "APPLIED U0\n",
      "APPLIED U0\n",
      "APPLIED U0\n",
      "APPLIED U0\n",
      "APPLIED U0\n",
      "APPLIED U0\n",
      "APPLIED U0\n",
      "APPLIED U0\n",
      "APPLIED U0\n",
      "APPLIED U0\n",
      "APPLIED U0\n",
      "APPLIED U0\n",
      "APPLIED U0\n",
      "APPLIED U0\n",
      "COULD NOT APPLY U0\n",
      "APPLIED U2\n",
      "APPLIED U0\n",
      "APPLIED U0\n",
      "APPLIED U0\n",
      "APPLIED U0\n",
      "APPLIED U0\n",
      "APPLIED U0\n",
      "APPLIED U0\n",
      "APPLIED U0\n",
      "APPLIED U0\n",
      "APPLIED U0\n",
      "APPLIED U0\n",
      "APPLIED U0\n",
      "APPLIED U0\n",
      "APPLIED U0\n",
      "APPLIED U0\n",
      "APPLIED U0\n",
      "APPLIED U0\n",
      "APPLIED U0\n",
      "APPLIED U0\n",
      "APPLIED U0\n",
      "APPLIED U0\n",
      "APPLIED U0\n",
      "APPLIED U0\n",
      "APPLIED U0\n",
      "APPLIED U0\n",
      "APPLIED U0\n",
      "APPLIED U0\n",
      "APPLIED U0\n",
      "APPLIED U0\n",
      "APPLIED U0\n",
      "APPLIED U0\n",
      "APPLIED U0\n",
      "APPLIED U0\n",
      "APPLIED U0\n",
      "APPLIED U0\n",
      "APPLIED U0\n",
      "APPLIED U0\n",
      "APPLIED U0\n",
      "APPLIED U0\n",
      "APPLIED U0\n",
      "APPLIED U0\n",
      "APPLIED U0\n",
      "APPLIED U0\n",
      "APPLIED U0\n",
      "APPLIED U0\n",
      "APPLIED U0\n",
      "APPLIED U0\n",
      "APPLIED U0\n",
      "APPLIED U0\n",
      "APPLIED U0\n",
      "APPLIED U0\n",
      "APPLIED U0\n",
      "DONE\n",
      "player 0 assignments: [19. 13.]\n",
      "player 1 assignments: [19. 13.]\n",
      "player 2 assignments: [ 2. 14.]\n"
     ]
    },
    {
     "data": {
      "text/plain": [
       "(3,\n",
       " 2,\n",
       " array([[19., 13.],\n",
       "        [19., 13.],\n",
       "        [ 2., 14.]]),\n",
       " array([40., 40.]),\n",
       " array([[  2.,   1.],\n",
       "        [  1.,   5.],\n",
       "        [  6., 100.]]))"
      ]
     },
     "execution_count": 14,
     "metadata": {},
     "output_type": "execute_result"
    },
    {
     "data": {
      "image/png": "[encoded data removed]",
      "text/plain": [
       "<Figure size 432x288 with 1 Axes>"
      ]
     },
     "metadata": {},
     "output_type": "display_data"
    }
   ],
   "source": [
    "%run efx_charity\n",
    "run_and_check(draw=True)"
   ]
  }
 ],
 "metadata": {
  "kernelspec": {
   "display_name": "Python 3 (ipykernel)",
   "language": "python",
   "name": "python3"
  },
  "language_info": {
   "codemirror_mode": {
    "name": "ipython",
    "version": 3
   },
   "file_extension": ".py",
   "mimetype": "text/x-python",
   "name": "python",
   "nbconvert_exporter": "python",
   "pygments_lexer": "ipython3",
   "version": "3.8.8"
  }
 },
 "nbformat": 4,
 "nbformat_minor": 5
}
