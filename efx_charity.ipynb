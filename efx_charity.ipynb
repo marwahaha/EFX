{
 "cells": [
  {
   "cell_type": "code",
   "execution_count": 603,
   "id": "3681a201",
   "metadata": {},
   "outputs": [],
   "source": [
    "import numpy as np\n",
    "import networkx as nx\n",
    "from networkx.algorithms.cycles import find_cycle\n",
    "from networkx.exception import NetworkXNoCycle\n",
    "from networkx.algorithms.dag import is_directed_acyclic_graph\n",
    "\n",
    "# rows are comma-separated\n",
    "def row_inp_to_array(inp):\n",
    "    return np.array([int(i) for i in inp.split(',')])\n",
    "\n",
    "def setup():\n",
    "    n = int(input('number of players:'))\n",
    "    assert n > 0, 'must be a positive integer'\n",
    "\n",
    "    t = int(input('number of item types:'))\n",
    "    assert t > 0,  'must be a positive integer'\n",
    "\n",
    "    items = row_inp_to_array(input('number of items of each type:'))\n",
    "    assert len(items) == t, 'must be of length t=' + str(t)\n",
    "\n",
    "    valuations = np.zeros((n,t))\n",
    "    for i in range(n):\n",
    "        val_row = row_inp_to_array(input('valuation for player ' + str(i+1) + ':'))\n",
    "        assert len(val_row) == t, 'must be of length t=' + str(t)\n",
    "        valuations[i,:] = val_row\n",
    "    \n",
    "    assignments = np.zeros((n,t))\n",
    "    return n, t, assignments, items, valuations\n",
    "\n",
    "#envy-freeness\n",
    "def get_bundle_values(assignments, valuations, j):\n",
    "    return assignments.dot(valuations[j])\n",
    "\n",
    "def check_ef(assignments, valuations, j):\n",
    "    bundle_values = get_bundle_values(assignments, valuations, j)\n",
    "    return j in np.flatnonzero(bundle_values == np.max(bundle_values))\n",
    "\n",
    "def check_efx(assignments, valuations, j):\n",
    "    if check_ef(assignments, valuations, j):\n",
    "        return True\n",
    "    bundle_values = get_bundle_values(assignments, valuations, j)\n",
    "    # EFX: for every item type:\n",
    "    for i in range(len(assignments[0])):\n",
    "        amt_of_type_i = np.copy(assignments[:, i])\n",
    "        without_1 = np.copy(amt_of_type_i)\n",
    "        \n",
    "        # just consider nonzero bundles and j\n",
    "        mask = list(np.flatnonzero(amt_of_type_i))\n",
    "        if j not in mask:\n",
    "            mask.append(j)\n",
    "        \n",
    "        # of nonzero bundles, remove an item\n",
    "        without_1[mask] -= 1\n",
    "        # dont subtract one from the current player\n",
    "        without_1[j] = amt_of_type_i[j]\n",
    "        # should be EF among nonzero items\n",
    "        assignments[:, i] = without_1\n",
    "        is_ef = check_ef(assignments[mask, :], valuations[mask, :], mask.index(j))\n",
    "        assignments[:, i] = amt_of_type_i\n",
    "        if not is_ef:\n",
    "            return False\n",
    "    return True\n",
    "\n",
    "def check_all_ef(assignments, valuations):\n",
    "    return check_all(assignments, valuations, check_ef)\n",
    "\n",
    "def check_all_efx(assignments, valuations):\n",
    "    return check_all(assignments, valuations, check_efx)\n",
    "\n",
    "def check_all(assignments, valuations, fn):\n",
    "    for j in range(len(assignments)):\n",
    "        if not fn(assignments, valuations, j):\n",
    "            return False\n",
    "    return True \n",
    "\n",
    "def check_all_done(assignments, items):\n",
    "    return np.all(np.sum(assignments, axis=0) == items)\n",
    "\n",
    "def item_type_available(assignments, items, i):\n",
    "    return np.sum(assignments[:, i]) < items[i]\n",
    "\n",
    "def run_u0_if_possible(n, t, assignments, items, valuations):\n",
    "    item_order = np.arange(t)\n",
    "    for i in item_order:\n",
    "        if item_type_available(assignments, items, i):\n",
    "            player_order = np.arange(n)\n",
    "            for j in player_order:\n",
    "                assignments[j,i] += 1\n",
    "                if check_all_efx(assignments, valuations):\n",
    "                    return True, assignments\n",
    "                assignments[j,i] -= 1\n",
    "    return False, assignments\n",
    "\n",
    "def create_envy_digraph(assignments, valuations, n):\n",
    "    envy_edges = np.zeros((n, n))\n",
    "    for i in range(n):\n",
    "        row = assignments.dot(valuations[i])\n",
    "        envy_edges[i, :] = row > row[i]\n",
    "    return nx.DiGraph(envy_edges)\n",
    "\n",
    "def locate_envy_cycle(G):\n",
    "    try:\n",
    "        cycle = find_cycle(G)\n",
    "        return True, cycle\n",
    "    except NetworkXNoCycle:\n",
    "        return False, None\n",
    "\n",
    "def run():\n",
    "    # setup\n",
    "    n, t, assignments, items, valuations = setup()\n",
    "    print(assignments.shape)\n",
    "    # algorithm\n",
    "    while True:\n",
    "        # assert partial EFX\n",
    "        assert check_all_efx(assignments, valuations), \"this should be partial EFX\"\n",
    "        # de cycle graph if needed\n",
    "        G = create_envy_digraph(assignments, valuations, n)\n",
    "        is_cycle, cycle = locate_envy_cycle(G)\n",
    "        while is_cycle:\n",
    "            print(\"DE-CYCLING GRAPH\")\n",
    "            cycle_mask = [e[0] for e in locate_envy_cycle(G)[1]]\n",
    "            cycle_mask_new = cycle_mask[1:] + cycle_mask[0:1]\n",
    "            assignments[cycle_mask_new] = assignments[cycle_mask]\n",
    "            G = create_envy_digraph(assignments, valuations, n)\n",
    "            is_cycle, cycle = locate_envy_cycle(G)\n",
    "        assert is_directed_acyclic_graph(G)\n",
    "        # check if done\n",
    "        if check_all_done(assignments, items):\n",
    "            print(\"DONE\")\n",
    "            return n, t, assignments, items, valuations\n",
    "        # run U0 if possible\n",
    "        success, assignments = run_u0_if_possible(n, t, assignments, items, valuations)\n",
    "        if success:\n",
    "            print(\"APPLIED U0\")\n",
    "            continue\n",
    "        print(\"COULD NOT APPLY U0\")\n",
    "        # run U2 if possible\n",
    "        print(\"TODO APPLY U2\")\n",
    "        print(\"COULD NOT APPLY U2 (!)\")\n",
    "        return n, t, assignments, items, valuations"
   ]
  },
  {
   "cell_type": "code",
   "execution_count": 604,
   "id": "848ac291",
   "metadata": {},
   "outputs": [
    {
     "name": "stdin",
     "output_type": "stream",
     "text": [
      "number of players: 3\n",
      "number of item types: 2\n",
      "number of items of each type: 2,3\n",
      "valuation for player 1: 1,5\n",
      "valuation for player 2: 2,5\n",
      "valuation for player 3: 4,2\n"
     ]
    },
    {
     "name": "stdout",
     "output_type": "stream",
     "text": [
      "(3, 2)\n",
      "APPLIED U0\n",
      "APPLIED U0\n",
      "APPLIED U0\n",
      "DE-CYCLING GRAPH\n",
      "APPLIED U0\n",
      "APPLIED U0\n",
      "DONE\n",
      "player 1 assignments: [0. 2.]\n",
      "player 2 assignments: [1. 1.]\n",
      "player 3 assignments: [1. 0.]\n"
     ]
    }
   ],
   "source": [
    "n, t, assignments, items, valuations = run()\n",
    "for idx,row in enumerate(assignments):\n",
    "    print('player', idx+1, 'assignments:', row)\n",
    "assert check_all_efx(assignments, valuations), \"EFX SHOULD HOLD\"\n",
    "assert check_all_done(assignments, items), \"ALL ITEMS SHOULD BE ALLOCATED\""
   ]
  },
  {
   "cell_type": "markdown",
   "id": "8420daf1",
   "metadata": {},
   "source": [
    "# development area"
   ]
  },
  {
   "cell_type": "code",
   "execution_count": null,
   "id": "3376b0ae",
   "metadata": {},
   "outputs": [],
   "source": [
    "# u2 rule\n",
    "# find a source (unenvied player)\n",
    "# then choose an item type to add\n",
    "# add it to the source\n",
    "# we know because u0 failed, that we can find a most envious agent\n",
    "# we have freedom on which items to remove (but cannot remove the type we gave since it's a source)\n",
    "# let's just remove them in order for now\n",
    "# at every step, we check if someone envies it\n",
    "# once we run out, we use a different one to remove\n",
    "# if there is no more enviers, then go back one and try removing the next type\n",
    "# once we are on the last type, when we run out, we go back one\n",
    "# then choose one of the enviers\n",
    "# that is our t0"
   ]
  },
  {
   "cell_type": "code",
   "execution_count": null,
   "id": "e5a4b0d1",
   "metadata": {},
   "outputs": [],
   "source": []
  },
  {
   "cell_type": "code",
   "execution_count": null,
   "id": "f4b4ac3b",
   "metadata": {},
   "outputs": [],
   "source": []
  },
  {
   "cell_type": "code",
   "execution_count": 404,
   "id": "4e5c354f",
   "metadata": {},
   "outputs": [
    {
     "name": "stdin",
     "output_type": "stream",
     "text": [
      "number of players: 2\n",
      "number of item types: 2\n",
      "number of items of each type: 1,5\n",
      "valuation for player 1: 5,5\n",
      "valuation for player 2: 1,100\n"
     ]
    }
   ],
   "source": [
    "n, t, assignments, items, valuations = setup()"
   ]
  },
  {
   "cell_type": "code",
   "execution_count": 560,
   "id": "3e2454c5",
   "metadata": {},
   "outputs": [
    {
     "data": {
      "image/png": "[encoded data removed]",
      "text/plain": [
       "<Figure size 432x288 with 1 Axes>"
      ]
     },
     "metadata": {},
     "output_type": "display_data"
    }
   ],
   "source": [
    "G = create_envy_digraph(assignments, valuations, n)\n",
    "nx.draw(G, with_labels=True)"
   ]
  }
 ],
 "metadata": {
  "kernelspec": {
   "display_name": "Python 3 (ipykernel)",
   "language": "python",
   "name": "python3"
  },
  "language_info": {
   "codemirror_mode": {
    "name": "ipython",
    "version": 3
   },
   "file_extension": ".py",
   "mimetype": "text/x-python",
   "name": "python",
   "nbconvert_exporter": "python",
   "pygments_lexer": "ipython3",
   "version": "3.8.8"
  }
 },
 "nbformat": 4,
 "nbformat_minor": 5
}
