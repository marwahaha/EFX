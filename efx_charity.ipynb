{
 "cells": [
  {
   "cell_type": "code",
   "execution_count": 10,
   "id": "f758b143",
   "metadata": {},
   "outputs": [
    {
     "name": "stdout",
     "output_type": "stream",
     "text": [
      "loaded efx algorithm\n"
     ]
    }
   ],
   "source": [
    "%run efx_charity"
   ]
  },
  {
   "cell_type": "code",
   "execution_count": 11,
   "id": "ee55eacd",
   "metadata": {},
   "outputs": [
    {
     "name": "stdin",
     "output_type": "stream",
     "text": [
      "number of players: 3\n",
      "number of item types: 2\n",
      "number of items of each type: 2,3\n",
      "valuation for player 0: 4,1\n",
      "valuation for player 1: 4,1\n",
      "valuation for player 2: 5,2\n"
     ]
    },
    {
     "name": "stdout",
     "output_type": "stream",
     "text": [
      "APPLIED U0\n",
      "APPLIED U0\n",
      "APPLIED U0\n",
      "APPLIED U0\n",
      "APPLIED U0\n",
      "DONE\n",
      "player 0 assignments: [1. 0.]\n",
      "player 1 assignments: [1. 0.]\n",
      "player 2 assignments: [0. 3.]\n"
     ]
    },
    {
     "data": {
      "text/plain": [
       "(3,\n",
       " 2,\n",
       " array([[1., 0.],\n",
       "        [1., 0.],\n",
       "        [0., 3.]]),\n",
       " array([2., 3.]),\n",
       " array([[4., 1.],\n",
       "        [4., 1.],\n",
       "        [5., 2.]]))"
      ]
     },
     "execution_count": 11,
     "metadata": {},
     "output_type": "execute_result"
    },
    {
     "data": {
      "image/png": "[encoded data removed]",
      "text/plain": [
       "<Figure size 432x288 with 1 Axes>"
      ]
     },
     "metadata": {},
     "output_type": "display_data"
    }
   ],
   "source": [
    "run_and_check(draw=True)"
   ]
  },
  {
   "cell_type": "code",
   "execution_count": null,
   "id": "ee49e0cf",
   "metadata": {},
   "outputs": [],
   "source": []
  }
 ],
 "metadata": {
  "kernelspec": {
   "display_name": "Python 3 (ipykernel)",
   "language": "python",
   "name": "python3"
  },
  "language_info": {
   "codemirror_mode": {
    "name": "ipython",
    "version": 3
   },
   "file_extension": ".py",
   "mimetype": "text/x-python",
   "name": "python",
   "nbconvert_exporter": "python",
   "pygments_lexer": "ipython3",
   "version": "3.8.8"
  }
 },
 "nbformat": 4,
 "nbformat_minor": 5
}
