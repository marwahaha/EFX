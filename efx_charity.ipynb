{
 "cells": [
  {
   "cell_type": "code",
   "execution_count": 19,
   "id": "fb09d1ce",
   "metadata": {},
   "outputs": [
    {
     "name": "stdout",
     "output_type": "stream",
     "text": [
      "loaded efx algorithm\n"
     ]
    },
    {
     "name": "stdin",
     "output_type": "stream",
     "text": [
      "number of players:  3\n",
      "number of item types:  2\n",
      "number of items of each type (comma-separated):  6,1\n",
      "valuation for player 0 (comma-separated):  1,2\n",
      "valuation for player 1 (comma-separated):  3,2\n",
      "valuation for player 2 (comma-separated):  1,5\n"
     ]
    },
    {
     "name": "stdout",
     "output_type": "stream",
     "text": [
      "APPLIED U0\n",
      "APPLIED U0\n",
      "APPLIED U0\n",
      "APPLIED U0\n",
      "APPLIED U0\n",
      "APPLIED U0\n",
      "COULD NOT APPLY U0\n",
      "trying U2 with source: 0\n",
      "trying U2 with source: 1\n",
      "trying U2 with source: 2\n",
      "APPLIED U2\n",
      "APPLIED U0\n",
      "APPLIED U0\n",
      "DONE\n",
      "player 0 assignments: [3. 0.]\n",
      "player 1 assignments: [3. 0.]\n",
      "player 2 assignments: [0. 1.]\n"
     ]
    },
    {
     "data": {
      "text/plain": [
       "(3,\n",
       " 2,\n",
       " array([[3., 0.],\n",
       "        [3., 0.],\n",
       "        [0., 1.]]),\n",
       " array([6., 1.]),\n",
       " array([[1., 2.],\n",
       "        [3., 2.],\n",
       "        [1., 5.]]))"
      ]
     },
     "execution_count": 19,
     "metadata": {},
     "output_type": "execute_result"
    },
    {
     "data": {
      "image/png": "[encoded data removed]",
      "text/plain": [
       "<Figure size 432x288 with 1 Axes>"
      ]
     },
     "metadata": {},
     "output_type": "display_data"
    }
   ],
   "source": [
    "%run efx_charity\n",
    "run_and_check(draw=True)"
   ]
  },
  {
   "cell_type": "code",
   "execution_count": null,
   "id": "4df6d2a5",
   "metadata": {},
   "outputs": [],
   "source": [
    "# number of items of each type (comma-separated):  6,1\n",
    "# valuation for player 0 (comma-separated):  1,2\n",
    "# valuation for player 1 (comma-separated):  3,2\n",
    "# valuation for player 2 (comma-separated):  1,5"
   ]
  }
 ],
 "metadata": {
  "kernelspec": {
   "display_name": "Python 3 (ipykernel)",
   "language": "python",
   "name": "python3"
  },
  "language_info": {
   "codemirror_mode": {
    "name": "ipython",
    "version": 3
   },
   "file_extension": ".py",
   "mimetype": "text/x-python",
   "name": "python",
   "nbconvert_exporter": "python",
   "pygments_lexer": "ipython3",
   "version": "3.8.8"
  }
 },
 "nbformat": 4,
 "nbformat_minor": 5
}
