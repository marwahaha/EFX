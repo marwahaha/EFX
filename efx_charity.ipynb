{
 "cells": [
  {
   "cell_type": "code",
   "execution_count": null,
   "id": "10a3becc",
   "metadata": {},
   "outputs": [],
   "source": []
  },
  {
   "cell_type": "code",
   "execution_count": null,
   "id": "8fd95193",
   "metadata": {},
   "outputs": [],
   "source": []
  },
  {
   "cell_type": "code",
   "execution_count": null,
   "id": "c62cd38d",
   "metadata": {},
   "outputs": [],
   "source": []
  },
  {
   "cell_type": "code",
   "execution_count": 1,
   "id": "4ff713fe",
   "metadata": {},
   "outputs": [],
   "source": [
    "import numpy as np"
   ]
  },
  {
   "cell_type": "code",
   "execution_count": 6,
   "id": "9cbd3082",
   "metadata": {},
   "outputs": [],
   "source": [
    "def check_all_efx(assignments, vals):\n",
    "    for j in range(len(assignments)):\n",
    "        if not check_efx(assignments, vals, j):\n",
    "            return False\n",
    "    return True\n",
    "\n",
    "def check_efx(assignments, vals, j):\n",
    "    my_value = vals[j].dot(assignments[j])\n",
    "    for i in range(len(assignments)):\n",
    "        ass = assignments[i]\n",
    "        ef_condition = vals[j].dot(ass) <= my_value\n",
    "        if ef_condition:\n",
    "            continue\n",
    "\n",
    "        for l in range(len(ass)):\n",
    "            if ass[l] > 0:\n",
    "                new_vec = list(ass[:l]) + [ass[l] - 1] + list(ass[l+1:])\n",
    "                condition = vals[j].dot(new_vec) <= my_value\n",
    "                if not condition:\n",
    "                    return False\n",
    "    return True\n",
    "\n",
    "def get_all_envy(assignments, vals):\n",
    "    return np.array([get_envy(assignments, vals, j) for j in range(len(assignments))])\n",
    "\n",
    "def get_envy(assignments, vals, j):\n",
    "    my_value = vals[j].dot(assignments[j])\n",
    "    envied = []\n",
    "    for i in range(len(assignments)):\n",
    "        ass = assignments[i]\n",
    "        ef_delta = vals[j].dot(ass) - my_value\n",
    "        envied.append(ef_delta)\n",
    "    return envied\n",
    "\n",
    "def get_envied_by(assignments, vals, i):\n",
    "    envied_by = []\n",
    "    ass = assignments[i]\n",
    "    for j in range(len(assignments)):\n",
    "        ef_delta = vals[j].dot(ass) - vals[j].dot(assignments[j])\n",
    "        envied_by.append(ef_delta)\n",
    "    return envied_by\n",
    "\n",
    "def get_2_cycle(assignments, vals):\n",
    "    arr = get_all_envy(assignments, vals) > 0\n",
    "    for i in range(len(arr)):\n",
    "        for j in range(len(arr)):\n",
    "            if arr[i][j] and arr[j][i]:\n",
    "                return i,j\n",
    "    return False"
   ]
  },
  {
   "cell_type": "code",
   "execution_count": 10,
   "id": "d2bc2ee1",
   "metadata": {},
   "outputs": [],
   "source": [
    "def scale_inputs(valuations, items):\n",
    "    valuations = np.array(valuations)\n",
    "\n",
    "    top_prefs = np.argmax(valuations, axis=1)\n",
    "    num_ppl = [sum(top_prefs == i) for i in range(len(items))]\n",
    "\n",
    "    if items[0]/num_ppl[0] < items[1]/num_ppl[1]:\n",
    "        vals = valuations[:,:]\n",
    "    else:\n",
    "        items = items[::-1]\n",
    "        num_ppl = num_ppl[::-1]\n",
    "        vals = valuations[:,::-1]\n",
    "        \n",
    "    # scale everything\n",
    "    vals[:,0] /= vals[:,1]\n",
    "    vals[:,1] = 1\n",
    "    \n",
    "    # change sort order\n",
    "    order = np.argsort(vals[:,0])\n",
    "    vals = vals[order, :][::-1, :]\n",
    "\n",
    "    return vals, items"
   ]
  },
  {
   "cell_type": "code",
   "execution_count": 30,
   "id": "40abb0a9",
   "metadata": {},
   "outputs": [],
   "source": [
    "from itertools import product"
   ]
  },
  {
   "cell_type": "code",
   "execution_count": 46,
   "id": "20a458fc",
   "metadata": {},
   "outputs": [],
   "source": [
    "from random import shuffle"
   ]
  },
  {
   "cell_type": "code",
   "execution_count": 142,
   "id": "e419024a",
   "metadata": {},
   "outputs": [],
   "source": [
    "def efx(vals, items, print_statements=False):\n",
    "    pr = print if print_statements else lambda x: x\n",
    "    n_players = len(vals)\n",
    "    assignments = np.array([(0,0)]*n_players)\n",
    "    items_left = np.copy(items)\n",
    "    top_prefs = np.argmax(vals, axis=1)\n",
    "    num_ppl = [sum(top_prefs == i) for i in range(len(items))]\n",
    "    assert check_all_efx(assignments, vals), \"NOT WORKING IN BEGINNING\"\n",
    "    \n",
    "    # U0 for each type\n",
    "    u0_applies = True\n",
    "    while u0_applies:\n",
    "        lst = list(product(range(2), range(n_players)))\n",
    "        shuffle(lst)\n",
    "#         pr(lst)\n",
    "        u0_applies = False\n",
    "        for t, i in lst:\n",
    "            if items_left[t] > 0:\n",
    "                test = np.copy(assignments)\n",
    "                test[i][t] += 1\n",
    "                if check_all_efx(test, vals):\n",
    "                    assignments = test\n",
    "                    items_left[t] -=1\n",
    "                    u0_applies = True\n",
    "                    pr(items_left)\n",
    "#                     pr(assignments)\n",
    "                    break\n",
    "\n",
    "    pr(\"u0 done\")\n",
    "    # U2\n",
    "    # find a source\n",
    "    # give a good doesn't matter which\n",
    "    # find minimal envied subset and player\n",
    "    # get envied by player recurse until find a source\n",
    "    # then repeat if source (or bundle?) not visited before...\n",
    "    \n",
    "    pr(items_left)\n",
    "    assert check_all_efx(assignments, vals), \"EFX SHOULD HOLD\"\n",
    "    assert sum(items_left) == 0, \"SHOULD USE ALL ITEMS\"\n",
    "    assert np.all(np.sum(assignments, axis=0) == items), \"ALL ITEMS ALLOCATED\"\n",
    "    \n",
    "    return assignments"
   ]
  },
  {
   "cell_type": "code",
   "execution_count": 143,
   "id": "03b560fe",
   "metadata": {},
   "outputs": [],
   "source": [
    "# t1, t2 valuations\n",
    "orig_valuations = [\n",
    "    (3,2),\n",
    "    (2,1),\n",
    "    (0.5,1),\n",
    "    (4,1),\n",
    "]\n",
    "\n",
    "orig_items = [20, 20]"
   ]
  },
  {
   "cell_type": "code",
   "execution_count": 152,
   "id": "9e0c0263",
   "metadata": {},
   "outputs": [
    {
     "name": "stdout",
     "output_type": "stream",
     "text": [
      "[[4.  1. ]\n",
      " [2.  1. ]\n",
      " [1.5 1. ]\n",
      " [0.5 1. ]] [20, 20]\n",
      "[20 19]\n",
      "[19 19]\n",
      "[18 19]\n",
      "[18 18]\n",
      "u0 done\n",
      "[18 18]\n"
     ]
    },
    {
     "ename": "AssertionError",
     "evalue": "SHOULD USE ALL ITEMS",
     "output_type": "error",
     "traceback": [
      "\u001b[0;31m---------------------------------------------------------------------------\u001b[0m",
      "\u001b[0;31mAssertionError\u001b[0m                            Traceback (most recent call last)",
      "\u001b[0;32m<ipython-input-152-23c08b6615f5>\u001b[0m in \u001b[0;36m<module>\u001b[0;34m\u001b[0m\n\u001b[1;32m      1\u001b[0m \u001b[0mvals\u001b[0m\u001b[0;34m,\u001b[0m \u001b[0mitems\u001b[0m \u001b[0;34m=\u001b[0m \u001b[0mscale_inputs\u001b[0m\u001b[0;34m(\u001b[0m\u001b[0morig_valuations\u001b[0m\u001b[0;34m,\u001b[0m \u001b[0morig_items\u001b[0m\u001b[0;34m)\u001b[0m\u001b[0;34m\u001b[0m\u001b[0;34m\u001b[0m\u001b[0m\n\u001b[1;32m      2\u001b[0m \u001b[0mprint\u001b[0m\u001b[0;34m(\u001b[0m\u001b[0mvals\u001b[0m\u001b[0;34m,\u001b[0m \u001b[0mitems\u001b[0m\u001b[0;34m)\u001b[0m\u001b[0;34m\u001b[0m\u001b[0;34m\u001b[0m\u001b[0m\n\u001b[0;32m----> 3\u001b[0;31m \u001b[0mefx\u001b[0m\u001b[0;34m(\u001b[0m\u001b[0mvals\u001b[0m\u001b[0;34m,\u001b[0m \u001b[0mitems\u001b[0m\u001b[0;34m,\u001b[0m \u001b[0mprint_statements\u001b[0m\u001b[0;34m=\u001b[0m\u001b[0;32mTrue\u001b[0m\u001b[0;34m)\u001b[0m\u001b[0;34m\u001b[0m\u001b[0;34m\u001b[0m\u001b[0m\n\u001b[0m",
      "\u001b[0;32m<ipython-input-142-0e8e9e71faed>\u001b[0m in \u001b[0;36mefx\u001b[0;34m(vals, items, print_statements)\u001b[0m\n\u001b[1;32m     32\u001b[0m     \u001b[0mpr\u001b[0m\u001b[0;34m(\u001b[0m\u001b[0mitems_left\u001b[0m\u001b[0;34m)\u001b[0m\u001b[0;34m\u001b[0m\u001b[0;34m\u001b[0m\u001b[0m\n\u001b[1;32m     33\u001b[0m     \u001b[0;32massert\u001b[0m \u001b[0mcheck_all_efx\u001b[0m\u001b[0;34m(\u001b[0m\u001b[0massignments\u001b[0m\u001b[0;34m,\u001b[0m \u001b[0mvals\u001b[0m\u001b[0;34m)\u001b[0m\u001b[0;34m,\u001b[0m \u001b[0;34m\"EFX SHOULD HOLD\"\u001b[0m\u001b[0;34m\u001b[0m\u001b[0;34m\u001b[0m\u001b[0m\n\u001b[0;32m---> 34\u001b[0;31m     \u001b[0;32massert\u001b[0m \u001b[0msum\u001b[0m\u001b[0;34m(\u001b[0m\u001b[0mitems_left\u001b[0m\u001b[0;34m)\u001b[0m \u001b[0;34m==\u001b[0m \u001b[0;36m0\u001b[0m\u001b[0;34m,\u001b[0m \u001b[0;34m\"SHOULD USE ALL ITEMS\"\u001b[0m\u001b[0;34m\u001b[0m\u001b[0;34m\u001b[0m\u001b[0m\n\u001b[0m\u001b[1;32m     35\u001b[0m     \u001b[0;32massert\u001b[0m \u001b[0mnp\u001b[0m\u001b[0;34m.\u001b[0m\u001b[0mall\u001b[0m\u001b[0;34m(\u001b[0m\u001b[0mnp\u001b[0m\u001b[0;34m.\u001b[0m\u001b[0msum\u001b[0m\u001b[0;34m(\u001b[0m\u001b[0massignments\u001b[0m\u001b[0;34m,\u001b[0m \u001b[0maxis\u001b[0m\u001b[0;34m=\u001b[0m\u001b[0;36m0\u001b[0m\u001b[0;34m)\u001b[0m \u001b[0;34m==\u001b[0m \u001b[0mitems\u001b[0m\u001b[0;34m)\u001b[0m\u001b[0;34m,\u001b[0m \u001b[0;34m\"ALL ITEMS ALLOCATED\"\u001b[0m\u001b[0;34m\u001b[0m\u001b[0;34m\u001b[0m\u001b[0m\n\u001b[1;32m     36\u001b[0m \u001b[0;34m\u001b[0m\u001b[0m\n",
      "\u001b[0;31mAssertionError\u001b[0m: SHOULD USE ALL ITEMS"
     ]
    }
   ],
   "source": [
    "vals, items = scale_inputs(orig_valuations, orig_items)\n",
    "print(vals, items)\n",
    "efx(vals, items, print_statements=True)"
   ]
  },
  {
   "cell_type": "code",
   "execution_count": null,
   "id": "08cbb760",
   "metadata": {},
   "outputs": [],
   "source": []
  },
  {
   "cell_type": "code",
   "execution_count": null,
   "id": "5189641f",
   "metadata": {},
   "outputs": [],
   "source": []
  },
  {
   "cell_type": "code",
   "execution_count": null,
   "id": "0f43c84d",
   "metadata": {},
   "outputs": [],
   "source": []
  },
  {
   "cell_type": "code",
   "execution_count": null,
   "id": "334637df",
   "metadata": {},
   "outputs": [],
   "source": []
  }
 ],
 "metadata": {
  "kernelspec": {
   "display_name": "Python 3 (ipykernel)",
   "language": "python",
   "name": "python3"
  },
  "language_info": {
   "codemirror_mode": {
    "name": "ipython",
    "version": 3
   },
   "file_extension": ".py",
   "mimetype": "text/x-python",
   "name": "python",
   "nbconvert_exporter": "python",
   "pygments_lexer": "ipython3",
   "version": "3.8.8"
  }
 },
 "nbformat": 4,
 "nbformat_minor": 5
}
