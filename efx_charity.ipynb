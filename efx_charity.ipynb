{
 "cells": [
  {
   "cell_type": "code",
   "execution_count": 4,
   "id": "fc8271a7",
   "metadata": {},
   "outputs": [
    {
     "name": "stdout",
     "output_type": "stream",
     "text": [
      "loaded efx algorithm\n"
     ]
    }
   ],
   "source": [
    "%run efx_charity"
   ]
  },
  {
   "cell_type": "markdown",
   "id": "eea9f695",
   "metadata": {},
   "source": [
    "## Example"
   ]
  },
  {
   "cell_type": "code",
   "execution_count": 5,
   "id": "3709bbf3",
   "metadata": {},
   "outputs": [
    {
     "name": "stdout",
     "output_type": "stream",
     "text": [
      "APPLIED U0\n",
      "APPLIED U0\n",
      "APPLIED U0\n",
      "APPLIED U0\n",
      "APPLIED U0\n",
      "APPLIED U0\n",
      "APPLIED U0\n",
      "APPLIED U0\n",
      "APPLIED U0\n",
      "APPLIED U0\n",
      "APPLIED U0\n",
      "APPLIED U0\n",
      "DE-CYCLING GRAPH\n",
      "APPLIED U0\n",
      "APPLIED U0\n",
      "APPLIED U0\n",
      "APPLIED U0\n",
      "APPLIED U0\n",
      "APPLIED U0\n",
      "APPLIED U0\n",
      "APPLIED U0\n",
      "APPLIED U0\n",
      "APPLIED U0\n",
      "COULD NOT APPLY U0\n",
      "trying U2 with source: 0\n",
      "APPLIED U2\n",
      "APPLIED U0\n",
      "APPLIED U0\n",
      "APPLIED U0\n",
      "APPLIED U0\n",
      "APPLIED U0\n",
      "APPLIED U0\n",
      "APPLIED U0\n",
      "APPLIED U0\n",
      "APPLIED U0\n",
      "APPLIED U0\n",
      "APPLIED U0\n",
      "APPLIED U0\n",
      "APPLIED U0\n",
      "APPLIED U0\n",
      "APPLIED U0\n",
      "APPLIED U0\n",
      "APPLIED U0\n",
      "APPLIED U0\n",
      "APPLIED U0\n",
      "APPLIED U0\n",
      "APPLIED U0\n",
      "APPLIED U0\n",
      "APPLIED U0\n",
      "APPLIED U0\n",
      "APPLIED U0\n",
      "APPLIED U0\n",
      "APPLIED U0\n",
      "APPLIED U0\n",
      "APPLIED U0\n",
      "COULD NOT APPLY U0\n",
      "trying U2 with source: 1\n",
      "APPLIED U2\n",
      "APPLIED U0\n",
      "APPLIED U0\n",
      "APPLIED U0\n",
      "COULD NOT APPLY U0\n",
      "trying U2 with source: 2\n",
      "trying U2 with source: 0\n",
      "trying U2 with source: 1\n",
      "COULD NOT APPLY U2 (!)\n",
      "player 0 assignments: [ 3. 10.  4.]\n",
      "player 1 assignments: [4. 9. 0.]\n",
      "player 2 assignments: [ 2. 11.  6.]\n"
     ]
    },
    {
     "ename": "AssertionError",
     "evalue": "ALL ITEMS SHOULD BE ALLOCATED",
     "output_type": "error",
     "traceback": [
      "\u001b[0;31m---------------------------------------------------------------------------\u001b[0m",
      "\u001b[0;31mAssertionError\u001b[0m                            Traceback (most recent call last)",
      "\u001b[0;32m/tmp/ipykernel_3837/3370884440.py\u001b[0m in \u001b[0;36m<module>\u001b[0;34m\u001b[0m\n\u001b[1;32m      6\u001b[0m         \u001b[0;34m[\u001b[0m\u001b[0;36m3.\u001b[0m\u001b[0;34m,\u001b[0m \u001b[0;36m2.5\u001b[0m\u001b[0;34m,\u001b[0m \u001b[0;36m0.1\u001b[0m\u001b[0;34m]\u001b[0m\u001b[0;34m,\u001b[0m\u001b[0;34m\u001b[0m\u001b[0;34m\u001b[0m\u001b[0m\n\u001b[1;32m      7\u001b[0m         [1., 5., 29]]))\n\u001b[0;32m----> 8\u001b[0;31m \u001b[0mrun_and_check\u001b[0m\u001b[0;34m(\u001b[0m\u001b[0mdraw\u001b[0m\u001b[0;34m=\u001b[0m\u001b[0;32mTrue\u001b[0m\u001b[0;34m,\u001b[0m \u001b[0minputs\u001b[0m\u001b[0;34m=\u001b[0m\u001b[0mdata\u001b[0m\u001b[0;34m)\u001b[0m\u001b[0;34m\u001b[0m\u001b[0;34m\u001b[0m\u001b[0m\n\u001b[0m",
      "\u001b[0;32m~/Desktop/efx/efx_charity.py\u001b[0m in \u001b[0;36mrun_and_check\u001b[0;34m(draw, **kwargs)\u001b[0m\n\u001b[1;32m    289\u001b[0m         \u001b[0mprint\u001b[0m\u001b[0;34m(\u001b[0m\u001b[0;34m'player'\u001b[0m\u001b[0;34m,\u001b[0m \u001b[0midx\u001b[0m\u001b[0;34m,\u001b[0m \u001b[0;34m'assignments:'\u001b[0m\u001b[0;34m,\u001b[0m \u001b[0mrow\u001b[0m\u001b[0;34m)\u001b[0m\u001b[0;34m\u001b[0m\u001b[0;34m\u001b[0m\u001b[0m\n\u001b[1;32m    290\u001b[0m     \u001b[0;32massert\u001b[0m \u001b[0mcheck_all_efx\u001b[0m\u001b[0;34m(\u001b[0m\u001b[0massignments\u001b[0m\u001b[0;34m,\u001b[0m \u001b[0mvaluations\u001b[0m\u001b[0;34m)\u001b[0m\u001b[0;34m,\u001b[0m \u001b[0;34m\"EFX SHOULD HOLD\"\u001b[0m\u001b[0;34m\u001b[0m\u001b[0;34m\u001b[0m\u001b[0m\n\u001b[0;32m--> 291\u001b[0;31m     \u001b[0;32massert\u001b[0m \u001b[0mcheck_all_done\u001b[0m\u001b[0;34m(\u001b[0m\u001b[0massignments\u001b[0m\u001b[0;34m,\u001b[0m \u001b[0mitems\u001b[0m\u001b[0;34m)\u001b[0m\u001b[0;34m,\u001b[0m \u001b[0;34m\"ALL ITEMS SHOULD BE ALLOCATED\"\u001b[0m\u001b[0;34m\u001b[0m\u001b[0;34m\u001b[0m\u001b[0m\n\u001b[0m\u001b[1;32m    292\u001b[0m     \u001b[0;32mif\u001b[0m \u001b[0mdraw\u001b[0m\u001b[0;34m:\u001b[0m\u001b[0;34m\u001b[0m\u001b[0;34m\u001b[0m\u001b[0m\n\u001b[1;32m    293\u001b[0m         \u001b[0mdraw_envy\u001b[0m\u001b[0;34m(\u001b[0m\u001b[0massignments\u001b[0m\u001b[0;34m,\u001b[0m \u001b[0mvaluations\u001b[0m\u001b[0;34m,\u001b[0m \u001b[0mn\u001b[0m\u001b[0;34m)\u001b[0m\u001b[0;34m\u001b[0m\u001b[0;34m\u001b[0m\u001b[0m\n",
      "\u001b[0;31mAssertionError\u001b[0m: ALL ITEMS SHOULD BE ALLOCATED"
     ]
    }
   ],
   "source": [
    "#n, t, assignments, items, valuations\n",
    "data = (3,3,\n",
    " np.zeros((3,3)),\n",
    " np.array([10., 30., 10.]),\n",
    " np.array([[4.2, 2., 1],\n",
    "        [3., 2.5, 0.1],\n",
    "        [1., 5., 29]]))\n",
    "run_and_check(draw=True, inputs=data)"
   ]
  },
  {
   "cell_type": "markdown",
   "id": "feaffc1b",
   "metadata": {},
   "source": [
    "## Randomly generate cases"
   ]
  },
  {
   "cell_type": "code",
   "execution_count": 8,
   "id": "605d2392",
   "metadata": {},
   "outputs": [
    {
     "name": "stdout",
     "output_type": "stream",
     "text": [
      "0\n",
      "COULD NOT APPLY U2 (!)\n",
      "i =  15 trying again...\n"
     ]
    },
    {
     "ename": "NameError",
     "evalue": "name 'run_rr' is not defined",
     "output_type": "error",
     "traceback": [
      "\u001b[0;31m---------------------------------------------------------------------------\u001b[0m",
      "\u001b[0;31mNameError\u001b[0m                                 Traceback (most recent call last)",
      "\u001b[0;32m/tmp/ipykernel_3837/212719980.py\u001b[0m in \u001b[0;36m<module>\u001b[0;34m\u001b[0m\n\u001b[1;32m     12\u001b[0m         \u001b[0mprint\u001b[0m\u001b[0;34m(\u001b[0m\u001b[0;34m'i = '\u001b[0m\u001b[0;34m,\u001b[0m \u001b[0mi\u001b[0m\u001b[0;34m,\u001b[0m \u001b[0;34m'trying again...'\u001b[0m\u001b[0;34m)\u001b[0m\u001b[0;34m\u001b[0m\u001b[0;34m\u001b[0m\u001b[0m\n\u001b[1;32m     13\u001b[0m         \u001b[0mdata\u001b[0m \u001b[0;34m=\u001b[0m \u001b[0;34m(\u001b[0m\u001b[0mn\u001b[0m\u001b[0;34m,\u001b[0m\u001b[0mt\u001b[0m\u001b[0;34m,\u001b[0m \u001b[0mnp\u001b[0m\u001b[0;34m.\u001b[0m\u001b[0mzeros\u001b[0m\u001b[0;34m(\u001b[0m\u001b[0;34m(\u001b[0m\u001b[0mn\u001b[0m\u001b[0;34m,\u001b[0m\u001b[0mt\u001b[0m\u001b[0;34m)\u001b[0m\u001b[0;34m)\u001b[0m\u001b[0;34m,\u001b[0m \u001b[0mitems\u001b[0m\u001b[0;34m,\u001b[0m \u001b[0mvaluations\u001b[0m\u001b[0;34m)\u001b[0m\u001b[0;34m\u001b[0m\u001b[0;34m\u001b[0m\u001b[0m\n\u001b[0;32m---> 14\u001b[0;31m         \u001b[0mout\u001b[0m \u001b[0;34m=\u001b[0m \u001b[0mrun_rr\u001b[0m\u001b[0;34m(\u001b[0m\u001b[0minputs\u001b[0m\u001b[0;34m=\u001b[0m\u001b[0mdata\u001b[0m\u001b[0;34m)\u001b[0m  \u001b[0;31m# \"ALL ITEMS SHOULD BE ALLOCATED\"\u001b[0m\u001b[0;34m\u001b[0m\u001b[0;34m\u001b[0m\u001b[0m\n\u001b[0m",
      "\u001b[0;31mNameError\u001b[0m: name 'run_rr' is not defined"
     ]
    }
   ],
   "source": [
    "n = 4\n",
    "t = 3\n",
    "items = [10, 10, 10]\n",
    "for i in range(500):\n",
    "    if i % 100 == 0:\n",
    "        print(i)\n",
    "    valuations = np.random.random((n,t))*10\n",
    "    data = (n,t, np.zeros((n,t)), items, valuations)\n",
    "    out = run(inputs=data, log=False)\n",
    "    \n",
    "    while not check_all_done(out[2], out[3]):\n",
    "        print('i = ', i, 'trying again...')\n",
    "        data = (n,t, np.zeros((n,t)), items, valuations)\n",
    "        out = run_rr(inputs=data)  # \"ALL ITEMS SHOULD BE ALLOCATED\"\n"
   ]
  },
  {
   "cell_type": "markdown",
   "id": "2e13f7f5",
   "metadata": {},
   "source": [
    "## Another algorithm"
   ]
  },
  {
   "cell_type": "markdown",
   "id": "2f389e94",
   "metadata": {},
   "source": [
    "This one does round robin on any source."
   ]
  },
  {
   "cell_type": "code",
   "execution_count": 10,
   "id": "aa04725b",
   "metadata": {},
   "outputs": [],
   "source": [
    "def run_rr(inputs=None, log=False):\n",
    "    pr = print if log else lambda *x: None\n",
    "    n, t, assignments, items, valuations = inputs if inputs else setup()\n",
    "    # algorithm\n",
    "    while True:\n",
    "        # assert partial EFX\n",
    "#         assert check_all_efx(assignments, valuations), \"this should be partial EFX\"\n",
    "        # de cycle graph if needed\n",
    "        G = create_envy_digraph(assignments, valuations, n)\n",
    "        is_cycle, cycle = locate_envy_cycle(G)\n",
    "        while is_cycle:\n",
    "            pr(\"DE-CYCLING GRAPH\")\n",
    "            cycle_mask = cycle\n",
    "            cycle_mask_new = cycle_mask[1:] + cycle_mask[0:1]\n",
    "            assignments[cycle_mask_new] = assignments[cycle_mask]\n",
    "            G = create_envy_digraph(assignments, valuations, n)\n",
    "            is_cycle, cycle = locate_envy_cycle(G)\n",
    "        assert is_directed_acyclic_graph(G)\n",
    "        # check if done\n",
    "        if check_all_done(assignments, items):\n",
    "            pr(\"DONE\")\n",
    "            return n, t, assignments, items, valuations\n",
    "        # find a source and assign it its favorite item\n",
    "        all_sources = [s for s,d in G.in_degree() if d == 0]\n",
    "        np.random.shuffle(all_sources)\n",
    "        added_item = False\n",
    "        for s in all_sources:\n",
    "            prefs = np.argsort(valuations[s,:])[::-1]\n",
    "            for p in prefs:\n",
    "                if item_type_available(assignments, items, p):\n",
    "                    # if available but not EFX, dont use this source\n",
    "                    assignments[s,p] += 1\n",
    "                    if check_all_efx(assignments, valuations):\n",
    "                        pr(\"assigning type\", p, \"to player\", s)\n",
    "                        added_item = True\n",
    "                    else:\n",
    "#                         print('skipping type', p, 'for ', s)\n",
    "                        assignments[s,p] -= 1\n",
    "                    break\n",
    "            if added_item:\n",
    "                break\n",
    "        if added_item:\n",
    "            continue\n",
    "        pr(\"COULDNT ADD ITEM(?)\")\n",
    "        return n, t, assignments, items, valuations"
   ]
  },
  {
   "cell_type": "raw",
   "id": "7487bd3a",
   "metadata": {},
   "source": [
    "t! preferences of people\n",
    "ABCD\n",
    "BCAD\n",
    "DABC\n",
    "\n",
    "\n",
    "A+\n",
    "A-\n",
    "A0\n",
    "# distinct: 2*t\n",
    "from each of these:\n",
    "B+\n",
    "B-\n",
    "B0\n",
    "# (if you don't care about b, then 1 of those (plus or minus)\n",
    "# 2*(t-1) + 2*(2*(t-1))\n",
    "...\n",
    "C+\n",
    "C-\n",
    "C0...\n",
    "\n",
    "...\n",
    "Z+\n",
    "Z-\n",
    "\n",
    "group all preference like this:\n",
    "A(+,-,0) B(+,-,0) .... Z(+,-)\n",
    "+ means you got leftover\n",
    "- means you didn't\n",
    "0 means you didn't care either way\n",
    "\n",
    "ex: t=2\n",
    "A+\n",
    "A-\n",
    "A0B\n",
    "\n",
    "ex: t=3\n",
    "A+B+\n",
    "A+B-\n",
    "A+B0C\n",
    "A-B+\n",
    "A-B-\n",
    "A-B0C\n",
    "A0B+\n",
    "A0B-\n",
    "A0B0C\n"
   ]
  },
  {
   "cell_type": "code",
   "execution_count": 23,
   "id": "ee93de0e",
   "metadata": {},
   "outputs": [
    {
     "name": "stdout",
     "output_type": "stream",
     "text": [
      "0\n",
      "i =  65 trying again...\n"
     ]
    },
    {
     "ename": "RuntimeError",
     "evalue": "No active exception to reraise",
     "output_type": "error",
     "traceback": [
      "\u001b[0;31m---------------------------------------------------------------------------\u001b[0m",
      "\u001b[0;31mRuntimeError\u001b[0m                              Traceback (most recent call last)",
      "\u001b[0;32m/tmp/ipykernel_3837/946999019.py\u001b[0m in \u001b[0;36m<module>\u001b[0;34m\u001b[0m\n\u001b[1;32m     18\u001b[0m         \u001b[0mprint\u001b[0m\u001b[0;34m(\u001b[0m\u001b[0;34m'i = '\u001b[0m\u001b[0;34m,\u001b[0m \u001b[0mi\u001b[0m\u001b[0;34m,\u001b[0m \u001b[0;34m'trying again...'\u001b[0m\u001b[0;34m)\u001b[0m\u001b[0;34m\u001b[0m\u001b[0;34m\u001b[0m\u001b[0m\n\u001b[1;32m     19\u001b[0m         \u001b[0mdata\u001b[0m \u001b[0;34m=\u001b[0m \u001b[0;34m(\u001b[0m\u001b[0mn\u001b[0m\u001b[0;34m,\u001b[0m\u001b[0mt\u001b[0m\u001b[0;34m,\u001b[0m \u001b[0mnp\u001b[0m\u001b[0;34m.\u001b[0m\u001b[0mzeros\u001b[0m\u001b[0;34m(\u001b[0m\u001b[0;34m(\u001b[0m\u001b[0mn\u001b[0m\u001b[0;34m,\u001b[0m\u001b[0mt\u001b[0m\u001b[0;34m)\u001b[0m\u001b[0;34m)\u001b[0m\u001b[0;34m,\u001b[0m \u001b[0mitems\u001b[0m\u001b[0;34m,\u001b[0m \u001b[0mvaluations\u001b[0m\u001b[0;34m)\u001b[0m\u001b[0;34m\u001b[0m\u001b[0;34m\u001b[0m\u001b[0m\n\u001b[0;32m---> 20\u001b[0;31m         \u001b[0;32mraise\u001b[0m\u001b[0;34m\u001b[0m\u001b[0;34m\u001b[0m\u001b[0m\n\u001b[0m\u001b[1;32m     21\u001b[0m         \u001b[0mout\u001b[0m \u001b[0;34m=\u001b[0m \u001b[0mrun_rr\u001b[0m\u001b[0;34m(\u001b[0m\u001b[0minputs\u001b[0m\u001b[0;34m=\u001b[0m\u001b[0mdata\u001b[0m\u001b[0;34m)\u001b[0m  \u001b[0;31m# \"ALL ITEMS SHOULD BE ALLOCATED\"\u001b[0m\u001b[0;34m\u001b[0m\u001b[0;34m\u001b[0m\u001b[0m\n",
      "\u001b[0;31mRuntimeError\u001b[0m: No active exception to reraise"
     ]
    }
   ],
   "source": [
    "# look for tiny dead end\n",
    "n = 4\n",
    "t = 4\n",
    "trials = 2000\n",
    "all_items = np.random.randint(2, 5, (trials, t)) # start with 10 items each to reduce randomness\n",
    "all_valuations = np.random.randint(1, 50, (trials, n,t))\n",
    "\n",
    "for i in range(trials):\n",
    "    if i % 100 == 0:\n",
    "        print(i)\n",
    "    items = all_items[i, :]\n",
    "    valuations = all_valuations[i, :, :]\n",
    "    data = (n,t, np.zeros((n,t)), items, valuations)\n",
    "    \n",
    "    out = run_rr(inputs=data)\n",
    "    assert check_all_efx(out[2], out[4]), \"EFX SHOULD HOLD\"\n",
    "    while not check_all_done(out[2], out[3]):\n",
    "        print('i = ', i, 'trying again...')\n",
    "        data = (n,t, np.zeros((n,t)), items, valuations)\n",
    "        raise \n",
    "        out = run_rr(inputs=data)  # \"ALL ITEMS SHOULD BE ALLOCATED\""
   ]
  },
  {
   "cell_type": "code",
   "execution_count": 24,
   "id": "d9387b1e",
   "metadata": {},
   "outputs": [
    {
     "data": {
      "text/plain": [
       "(4,\n",
       " 4,\n",
       " array([[1., 1., 2., 0.],\n",
       "        [3., 1., 0., 0.],\n",
       "        [0., 0., 0., 1.],\n",
       "        [0., 0., 0., 1.]]),\n",
       " array([4, 2, 3, 2]),\n",
       " array([[24, 18, 35, 36],\n",
       "        [ 6, 11,  4, 35],\n",
       "        [10,  3, 13, 38],\n",
       "        [ 3,  5,  1, 44]]))"
      ]
     },
     "execution_count": 24,
     "metadata": {},
     "output_type": "execute_result"
    }
   ],
   "source": [
    "out"
   ]
  },
  {
   "cell_type": "code",
   "execution_count": 34,
   "id": "ed9113f7",
   "metadata": {},
   "outputs": [
    {
     "name": "stdout",
     "output_type": "stream",
     "text": [
      "assigning type 3 to player 1\n",
      "assigning type 3 to player 3\n",
      "assigning type 2 to player 0\n",
      "assigning type 2 to player 2\n",
      "assigning type 2 to player 0\n",
      "assigning type 0 to player 2\n",
      "assigning type 0 to player 2\n",
      "assigning type 0 to player 0\n",
      "assigning type 0 to player 2\n",
      "assigning type 1 to player 3\n",
      "assigning type 1 to player 1\n",
      "DONE\n"
     ]
    },
    {
     "data": {
      "text/plain": [
       "(4,\n",
       " 4,\n",
       " array([[1., 0., 2., 0.],\n",
       "        [0., 1., 0., 1.],\n",
       "        [3., 0., 1., 0.],\n",
       "        [0., 1., 0., 1.]]),\n",
       " array([4, 2, 3, 2]),\n",
       " array([[24, 18, 35, 36],\n",
       "        [ 6, 11,  4, 35],\n",
       "        [10,  3, 13, 38],\n",
       "        [ 3,  5,  1, 44]]))"
      ]
     },
     "execution_count": 34,
     "metadata": {},
     "output_type": "execute_result"
    }
   ],
   "source": [
    "run_rr((n,t, np.zeros((n,t)), items, valuations), log=True)"
   ]
  },
  {
   "cell_type": "code",
   "execution_count": 17,
   "id": "ce31002d",
   "metadata": {},
   "outputs": [
    {
     "name": "stdout",
     "output_type": "stream",
     "text": [
      "assigning type 1 to player 0\n",
      "assigning type 0 to player 1\n",
      "assigning type 0 to player 1\n",
      "assigning type 2 to player 0\n",
      "DONE\n"
     ]
    },
    {
     "data": {
      "text/plain": [
       "(2,\n",
       " 3,\n",
       " array([[0., 1., 1.],\n",
       "        [2., 0., 0.]]),\n",
       " [2, 1, 1],\n",
       " array([[1, 3, 1],\n",
       "        [3, 4, 1]]))"
      ]
     },
     "execution_count": 17,
     "metadata": {},
     "output_type": "execute_result"
    }
   ],
   "source": [
    "run_rr((n,t, np.zeros((n,t)), items, valuations), log=True)"
   ]
  },
  {
   "cell_type": "code",
   "execution_count": null,
   "id": "5fc0140c",
   "metadata": {},
   "outputs": [],
   "source": []
  },
  {
   "cell_type": "code",
   "execution_count": null,
   "id": "4b466b59",
   "metadata": {},
   "outputs": [],
   "source": []
  },
  {
   "cell_type": "code",
   "execution_count": null,
   "id": "e9e1cde8",
   "metadata": {},
   "outputs": [],
   "source": []
  },
  {
   "cell_type": "code",
   "execution_count": 798,
   "id": "f06f6d63",
   "metadata": {},
   "outputs": [
    {
     "name": "stdout",
     "output_type": "stream",
     "text": [
      "0\n",
      "1000\n",
      "2000\n",
      "3000\n",
      "4000\n",
      "5000\n",
      "6000\n",
      "7000\n",
      "8000\n",
      "9000\n"
     ]
    }
   ],
   "source": [
    "trials = 1\n",
    "successes = np.zeros(trials)\n",
    "\n",
    "repeats = 10000\n",
    "for i in range(trials):\n",
    "    wins = 0\n",
    "    for _ in range(repeats):\n",
    "        if _ % 1000 == 0:\n",
    "            print(_)\n",
    "        data = (n,t, np.zeros((n,t)), items, valuations)\n",
    "        out = run_rr(inputs=data)\n",
    "        assert check_all_efx(out[2], out[4]), \"EFX SHOULD HOLD\"\n",
    "        wins += check_all_done(out[2], out[3])\n",
    "    successes[i] = wins/repeats"
   ]
  },
  {
   "cell_type": "code",
   "execution_count": 895,
   "id": "b94afd0f",
   "metadata": {},
   "outputs": [
    {
     "data": {
      "text/plain": [
       "array([0.5034])"
      ]
     },
     "execution_count": 895,
     "metadata": {},
     "output_type": "execute_result"
    }
   ],
   "source": [
    "successes"
   ]
  },
  {
   "cell_type": "markdown",
   "id": "5f5e4792",
   "metadata": {},
   "source": [
    "what about stacking them together?\n"
   ]
  },
  {
   "cell_type": "code",
   "execution_count": 1083,
   "id": "55ec6a5b",
   "metadata": {},
   "outputs": [],
   "source": []
  },
  {
   "cell_type": "code",
   "execution_count": 1093,
   "id": "b56a72fb",
   "metadata": {},
   "outputs": [],
   "source": [
    "def make_out(k):\n",
    "    make_zeros = lambda: np.zeros((2*k,3*k))\n",
    "    repeater = [[1, 1, 4],\n",
    "    [3, 1, 4]]\n",
    "\n",
    "    test = make_zeros()\n",
    "    for i in range(k):\n",
    "        test[2*i:2*i+2, 3*i:3*i+3] = repeater\n",
    "    return (2*k,\n",
    " 3*k,\n",
    " make_zeros(),\n",
    " [2, 1, 1]*k,\n",
    "       test)"
   ]
  },
  {
   "cell_type": "code",
   "execution_count": 1095,
   "id": "09336157",
   "metadata": {},
   "outputs": [
    {
     "data": {
      "text/plain": [
       "(4,\n",
       " 6,\n",
       " array([[0., 1., 1., 1., 0., 0.],\n",
       "        [2., 0., 0., 0., 0., 0.],\n",
       "        [0., 0., 0., 1., 1., 0.],\n",
       "        [0., 0., 0., 0., 0., 1.]]),\n",
       " [2, 1, 1, 2, 1, 1],\n",
       " array([[1., 1., 4., 0., 0., 0.],\n",
       "        [3., 1., 4., 0., 0., 0.],\n",
       "        [0., 0., 0., 1., 1., 4.],\n",
       "        [0., 0., 0., 3., 1., 4.]]))"
      ]
     },
     "execution_count": 1095,
     "metadata": {},
     "output_type": "execute_result"
    }
   ],
   "source": [
    "run_rr(make_out(2))"
   ]
  },
  {
   "cell_type": "code",
   "execution_count": 1097,
   "id": "bf45423c",
   "metadata": {},
   "outputs": [
    {
     "name": "stdout",
     "output_type": "stream",
     "text": [
      "0\n",
      "100\n",
      "200\n",
      "300\n",
      "400\n",
      "500\n",
      "600\n",
      "700\n",
      "800\n",
      "900\n"
     ]
    },
    {
     "data": {
      "text/plain": [
       "array([0.738])"
      ]
     },
     "execution_count": 1097,
     "metadata": {},
     "output_type": "execute_result"
    }
   ],
   "source": [
    "trials = 1\n",
    "successes = np.zeros(trials)\n",
    "\n",
    "repeats = 1000\n",
    "for i in range(trials):\n",
    "    wins = 0\n",
    "    for _ in range(repeats):\n",
    "        if _ % 100 == 0:\n",
    "            print(_)\n",
    "        data = (n,t, np.zeros((n,t)), items, valuations)\n",
    "        out = run_rr(inputs=make_out(2))\n",
    "        assert check_all_efx(out[2], out[4]), \"EFX SHOULD HOLD\"\n",
    "        wins += check_all_done(out[2], out[3])\n",
    "    successes[i] = wins/repeats\n",
    "successes"
   ]
  },
  {
   "cell_type": "markdown",
   "id": "4179b44a",
   "metadata": {},
   "source": [
    "new counterexample"
   ]
  },
  {
   "cell_type": "code",
   "execution_count": 358,
   "id": "65eb923d",
   "metadata": {},
   "outputs": [],
   "source": [
    "valuations = np.array([\n",
    "    [1, 1.5, 0],\n",
    "    [4, 1.5, 1],\n",
    "    [0, 1.5, 1]\n",
    "])"
   ]
  },
  {
   "cell_type": "code",
   "execution_count": 359,
   "id": "cf22e85c",
   "metadata": {},
   "outputs": [
    {
     "ename": "ValueError",
     "evalue": "shapes (4,5) and (3,) not aligned: 5 (dim 1) != 3 (dim 0)",
     "output_type": "error",
     "traceback": [
      "\u001b[0;31m---------------------------------------------------------------------------\u001b[0m",
      "\u001b[0;31mValueError\u001b[0m                                Traceback (most recent call last)",
      "\u001b[0;32m/tmp/ipykernel_44618/3865337721.py\u001b[0m in \u001b[0;36m<module>\u001b[0;34m\u001b[0m\n\u001b[1;32m      3\u001b[0m     \u001b[0mdata\u001b[0m \u001b[0;34m=\u001b[0m \u001b[0;34m(\u001b[0m\u001b[0mn\u001b[0m\u001b[0;34m,\u001b[0m\u001b[0mt\u001b[0m\u001b[0;34m,\u001b[0m \u001b[0mnp\u001b[0m\u001b[0;34m.\u001b[0m\u001b[0mzeros\u001b[0m\u001b[0;34m(\u001b[0m\u001b[0;34m(\u001b[0m\u001b[0mn\u001b[0m\u001b[0;34m,\u001b[0m\u001b[0mt\u001b[0m\u001b[0;34m)\u001b[0m\u001b[0;34m)\u001b[0m\u001b[0;34m,\u001b[0m \u001b[0mitems\u001b[0m\u001b[0;34m,\u001b[0m \u001b[0mvaluations\u001b[0m\u001b[0;34m)\u001b[0m\u001b[0;34m\u001b[0m\u001b[0;34m\u001b[0m\u001b[0m\n\u001b[1;32m      4\u001b[0m \u001b[0;34m\u001b[0m\u001b[0m\n\u001b[0;32m----> 5\u001b[0;31m     \u001b[0mout\u001b[0m \u001b[0;34m=\u001b[0m \u001b[0mrun_rr\u001b[0m\u001b[0;34m(\u001b[0m\u001b[0minputs\u001b[0m\u001b[0;34m=\u001b[0m\u001b[0mdata\u001b[0m\u001b[0;34m)\u001b[0m\u001b[0;34m\u001b[0m\u001b[0;34m\u001b[0m\u001b[0m\n\u001b[0m\u001b[1;32m      6\u001b[0m     \u001b[0;32massert\u001b[0m \u001b[0mcheck_all_efx\u001b[0m\u001b[0;34m(\u001b[0m\u001b[0mout\u001b[0m\u001b[0;34m[\u001b[0m\u001b[0;36m2\u001b[0m\u001b[0;34m]\u001b[0m\u001b[0;34m,\u001b[0m \u001b[0mout\u001b[0m\u001b[0;34m[\u001b[0m\u001b[0;36m4\u001b[0m\u001b[0;34m]\u001b[0m\u001b[0;34m)\u001b[0m\u001b[0;34m,\u001b[0m \u001b[0;34m\"EFX SHOULD HOLD\"\u001b[0m\u001b[0;34m\u001b[0m\u001b[0;34m\u001b[0m\u001b[0m\n\u001b[1;32m      7\u001b[0m     \u001b[0;32mwhile\u001b[0m \u001b[0;32mnot\u001b[0m \u001b[0mcheck_all_done\u001b[0m\u001b[0;34m(\u001b[0m\u001b[0mout\u001b[0m\u001b[0;34m[\u001b[0m\u001b[0;36m2\u001b[0m\u001b[0;34m]\u001b[0m\u001b[0;34m,\u001b[0m \u001b[0mout\u001b[0m\u001b[0;34m[\u001b[0m\u001b[0;36m3\u001b[0m\u001b[0;34m]\u001b[0m\u001b[0;34m)\u001b[0m\u001b[0;34m:\u001b[0m\u001b[0;34m\u001b[0m\u001b[0;34m\u001b[0m\u001b[0m\n",
      "\u001b[0;32m/tmp/ipykernel_44618/1061264819.py\u001b[0m in \u001b[0;36mrun_rr\u001b[0;34m(inputs)\u001b[0m\n\u001b[1;32m      6\u001b[0m \u001b[0;31m#         assert check_all_efx(assignments, valuations), \"this should be partial EFX\"\u001b[0m\u001b[0;34m\u001b[0m\u001b[0;34m\u001b[0m\u001b[0;34m\u001b[0m\u001b[0m\n\u001b[1;32m      7\u001b[0m         \u001b[0;31m# de cycle graph if needed\u001b[0m\u001b[0;34m\u001b[0m\u001b[0;34m\u001b[0m\u001b[0;34m\u001b[0m\u001b[0m\n\u001b[0;32m----> 8\u001b[0;31m         \u001b[0mG\u001b[0m \u001b[0;34m=\u001b[0m \u001b[0mcreate_envy_digraph\u001b[0m\u001b[0;34m(\u001b[0m\u001b[0massignments\u001b[0m\u001b[0;34m,\u001b[0m \u001b[0mvaluations\u001b[0m\u001b[0;34m,\u001b[0m \u001b[0mn\u001b[0m\u001b[0;34m)\u001b[0m\u001b[0;34m\u001b[0m\u001b[0;34m\u001b[0m\u001b[0m\n\u001b[0m\u001b[1;32m      9\u001b[0m         \u001b[0mis_cycle\u001b[0m\u001b[0;34m,\u001b[0m \u001b[0mcycle\u001b[0m \u001b[0;34m=\u001b[0m \u001b[0mlocate_envy_cycle\u001b[0m\u001b[0;34m(\u001b[0m\u001b[0mG\u001b[0m\u001b[0;34m)\u001b[0m\u001b[0;34m\u001b[0m\u001b[0;34m\u001b[0m\u001b[0m\n\u001b[1;32m     10\u001b[0m         \u001b[0;32mwhile\u001b[0m \u001b[0mis_cycle\u001b[0m\u001b[0;34m:\u001b[0m\u001b[0;34m\u001b[0m\u001b[0;34m\u001b[0m\u001b[0m\n",
      "\u001b[0;32m~/Desktop/efx/efx_charity.py\u001b[0m in \u001b[0;36mcreate_envy_digraph\u001b[0;34m(assignments, valuations, n)\u001b[0m\n\u001b[1;32m    103\u001b[0m     \u001b[0menvy_edges\u001b[0m \u001b[0;34m=\u001b[0m \u001b[0mnp\u001b[0m\u001b[0;34m.\u001b[0m\u001b[0mzeros\u001b[0m\u001b[0;34m(\u001b[0m\u001b[0;34m(\u001b[0m\u001b[0mn\u001b[0m\u001b[0;34m,\u001b[0m \u001b[0mn\u001b[0m\u001b[0;34m)\u001b[0m\u001b[0;34m)\u001b[0m\u001b[0;34m\u001b[0m\u001b[0;34m\u001b[0m\u001b[0m\n\u001b[1;32m    104\u001b[0m     \u001b[0;32mfor\u001b[0m \u001b[0mi\u001b[0m \u001b[0;32min\u001b[0m \u001b[0mrange\u001b[0m\u001b[0;34m(\u001b[0m\u001b[0mn\u001b[0m\u001b[0;34m)\u001b[0m\u001b[0;34m:\u001b[0m\u001b[0;34m\u001b[0m\u001b[0;34m\u001b[0m\u001b[0m\n\u001b[0;32m--> 105\u001b[0;31m         \u001b[0mrow\u001b[0m \u001b[0;34m=\u001b[0m \u001b[0massignments\u001b[0m\u001b[0;34m.\u001b[0m\u001b[0mdot\u001b[0m\u001b[0;34m(\u001b[0m\u001b[0mvaluations\u001b[0m\u001b[0;34m[\u001b[0m\u001b[0mi\u001b[0m\u001b[0;34m]\u001b[0m\u001b[0;34m)\u001b[0m\u001b[0;34m\u001b[0m\u001b[0;34m\u001b[0m\u001b[0m\n\u001b[0m\u001b[1;32m    106\u001b[0m         \u001b[0menvy_edges\u001b[0m\u001b[0;34m[\u001b[0m\u001b[0mi\u001b[0m\u001b[0;34m,\u001b[0m \u001b[0;34m:\u001b[0m\u001b[0;34m]\u001b[0m \u001b[0;34m=\u001b[0m \u001b[0mrow\u001b[0m \u001b[0;34m>\u001b[0m \u001b[0mrow\u001b[0m\u001b[0;34m[\u001b[0m\u001b[0mi\u001b[0m\u001b[0;34m]\u001b[0m\u001b[0;34m\u001b[0m\u001b[0;34m\u001b[0m\u001b[0m\n\u001b[1;32m    107\u001b[0m     \u001b[0;32mreturn\u001b[0m \u001b[0mnx\u001b[0m\u001b[0;34m.\u001b[0m\u001b[0mDiGraph\u001b[0m\u001b[0;34m(\u001b[0m\u001b[0menvy_edges\u001b[0m\u001b[0;34m)\u001b[0m\u001b[0;34m\u001b[0m\u001b[0;34m\u001b[0m\u001b[0m\n",
      "\u001b[0;31mValueError\u001b[0m: shapes (4,5) and (3,) not aligned: 5 (dim 1) != 3 (dim 0)"
     ]
    }
   ],
   "source": [
    "\n",
    "for i in range(1):\n",
    "    # assignments = np.array([[3,5,0], [6,3,0], [0,0,11]])\n",
    "    data = (n,t, np.zeros((n,t)), items, valuations)\n",
    "\n",
    "    out = run_rr(inputs=data)\n",
    "    assert check_all_efx(out[2], out[4]), \"EFX SHOULD HOLD\"\n",
    "    while not check_all_done(out[2], out[3]):\n",
    "        print(out[2])\n",
    "        print('i = ', i, 'trying again...')\n",
    "        break\n",
    "        data = (n,t, np.zeros((n,t)), items, valuations)\n",
    "        out = run_rr(inputs=data)  # \"ALL ITEMS SHOULD BE ALLOCATED\"\n"
   ]
  },
  {
   "cell_type": "markdown",
   "id": "4027ed5a",
   "metadata": {},
   "source": [
    "counterexample from self mea"
   ]
  },
  {
   "cell_type": "code",
   "execution_count": 43,
   "id": "5680e6f8",
   "metadata": {},
   "outputs": [
    {
     "name": "stdout",
     "output_type": "stream",
     "text": [
      "COULD NOT APPLY U2 (!)\n",
      "[[3. 3. 4.]\n",
      " [4. 2. 3.]\n",
      " [2. 3. 4.]]\n",
      "i =  63 fails...\n",
      "COULD NOT APPLY U2 (!)\n",
      "[[4. 2. 4.]\n",
      " [4. 2. 5.]\n",
      " [1. 4. 2.]]\n",
      "i =  80 fails...\n"
     ]
    }
   ],
   "source": [
    "n = 3\n",
    "t = 3\n",
    "items = [9,9,11]\n",
    "eps = 0.5\n",
    "valuations = np.array([\n",
    "    [1,2-eps, 0],\n",
    "    [(1+eps)/(1-eps), 1+eps, 1],\n",
    "    [0, 2-eps, 1]\n",
    "])\n",
    "\n",
    "for i in range(100):\n",
    "#     assignments = np.array([[3,5,0], [6,3,0], [0,0,11]])\n",
    "    data = (n,t, np.zeros((n,t)), items, valuations)\n",
    "\n",
    "    out = run(inputs=data, log=False)\n",
    "    assert check_all_efx(out[2], out[4]), \"EFX SHOULD HOLD\"\n",
    "    if not check_all_done(out[2], out[3]):\n",
    "        print(out[2])\n",
    "        print('i = ', i, 'fails...')\n",
    "#         data = (n,t, np.zeros((n,t)), items, valuations)\n",
    "#         out = run(inputs=data, log=False)  # \"ALL ITEMS SHOULD BE ALLOCATED\"\n"
   ]
  },
  {
   "cell_type": "markdown",
   "id": "758f33e8",
   "metadata": {},
   "source": [
    "### Look at chance of success"
   ]
  },
  {
   "cell_type": "code",
   "execution_count": 1172,
   "id": "358245ab",
   "metadata": {},
   "outputs": [
    {
     "name": "stdout",
     "output_type": "stream",
     "text": [
      "0\n",
      "10\n",
      "20\n",
      "30\n",
      "40\n",
      "50\n",
      "60\n",
      "70\n",
      "80\n",
      "90\n",
      "100\n",
      "110\n",
      "120\n",
      "130\n",
      "140\n",
      "150\n",
      "160\n",
      "170\n",
      "180\n",
      "190\n"
     ]
    }
   ],
   "source": [
    "n = 4\n",
    "t = 4\n",
    "trials = 200\n",
    "repeats = 10\n",
    "all_items = np.random.randint(9, 10, (trials, t)) # start with 10 items each to reduce randomness\n",
    "all_valuations = np.random.random((trials, n,t))*10\n",
    "successes = np.zeros(trials)\n",
    "\n",
    "for i in range(trials):\n",
    "    if i % 10 == 0:\n",
    "        print(i)\n",
    "    items = all_items[i, :]\n",
    "    valuations = all_valuations[i, :, :]\n",
    "    \n",
    "    wins = 0\n",
    "    for _ in range(repeats):\n",
    "        data = (n,t, np.zeros((n,t)), items, valuations)\n",
    "        out = run_rr(inputs=data)\n",
    "        assert check_all_efx(out[2], out[4]), \"EFX SHOULD HOLD\"\n",
    "        wins += check_all_done(out[2], out[3])\n",
    "    successes[i] = wins/repeats"
   ]
  },
  {
   "cell_type": "code",
   "execution_count": 1173,
   "id": "11f624bc",
   "metadata": {},
   "outputs": [
    {
     "data": {
      "text/plain": [
       "array([1. , 1. , 1. , 1. , 1. , 1. , 1. , 0.9, 1. , 1. , 1. , 1. , 1. ,\n",
       "       1. , 1. , 1. , 0.9, 1. , 1. , 1. , 1. , 1. , 1. , 1. , 1. , 1. ,\n",
       "       1. , 1. , 1. , 1. , 1. , 1. , 1. , 0.9, 1. , 1. , 1. , 1. , 1. ,\n",
       "       1. , 1. , 1. , 1. , 1. , 1. , 1. , 0.9, 1. , 1. , 1. , 1. , 1. ,\n",
       "       1. , 1. , 1. , 1. , 1. , 1. , 1. , 1. , 1. , 1. , 1. , 1. , 1. ,\n",
       "       1. , 1. , 1. , 1. , 1. , 1. , 1. , 1. , 1. , 1. , 1. , 1. , 1. ,\n",
       "       1. , 1. , 1. , 1. , 1. , 0.8, 1. , 1. , 1. , 1. , 1. , 0.9, 1. ,\n",
       "       1. , 1. , 1. , 1. , 1. , 1. , 1. , 1. , 1. , 0.9, 1. , 0.9, 1. ,\n",
       "       1. , 1. , 1. , 1. , 1. , 1. , 1. , 1. , 0.8, 1. , 1. , 1. , 1. ,\n",
       "       1. , 0.5, 1. , 1. , 1. , 1. , 1. , 1. , 1. , 1. , 1. , 1. , 1. ,\n",
       "       1. , 1. , 1. , 1. , 1. , 1. , 0.7, 1. , 1. , 1. , 1. , 1. , 1. ,\n",
       "       1. , 1. , 1. , 1. , 1. , 1. , 1. , 1. , 1. , 1. , 1. , 1. , 1. ,\n",
       "       1. , 1. , 1. , 1. , 1. , 1. , 1. , 1. , 1. , 1. , 1. , 1. , 1. ,\n",
       "       1. , 1. , 1. , 1. , 1. , 1. , 1. , 1. , 1. , 1. , 1. , 1. , 1. ,\n",
       "       1. , 0.9, 1. , 1. , 1. , 1. , 1. , 1. , 1. , 1. , 1. , 1. , 1. ,\n",
       "       1. , 1. , 1. , 1. , 1. ])"
      ]
     },
     "execution_count": 1173,
     "metadata": {},
     "output_type": "execute_result"
    }
   ],
   "source": [
    "successes"
   ]
  },
  {
   "cell_type": "code",
   "execution_count": 1162,
   "id": "2ff7577b",
   "metadata": {},
   "outputs": [
    {
     "data": {
      "text/plain": [
       "(array([ 26,  51,  61,  69,  73,  74,  76, 114, 130, 147, 154, 182]),)"
      ]
     },
     "execution_count": 1162,
     "metadata": {},
     "output_type": "execute_result"
    }
   ],
   "source": [
    "np.where(successes != 1)"
   ]
  },
  {
   "cell_type": "code",
   "execution_count": null,
   "id": "3d2800d0",
   "metadata": {},
   "outputs": [],
   "source": [
    "any_fails = all_valuations[np.where(successes != 1), :, :]\n",
    "any_fails"
   ]
  },
  {
   "cell_type": "code",
   "execution_count": 23,
   "id": "e0d8407c",
   "metadata": {},
   "outputs": [],
   "source": [
    "loser = any_fails[0][2]"
   ]
  },
  {
   "cell_type": "code",
   "execution_count": 24,
   "id": "46654527",
   "metadata": {},
   "outputs": [
    {
     "name": "stdout",
     "output_type": "stream",
     "text": [
      "0\n",
      "1\n",
      "2\n",
      "3\n",
      "4\n",
      "[0.66 0.7  0.66 0.63 0.71]\n",
      "0\n",
      "1\n",
      "2\n",
      "3\n",
      "4\n",
      "[0.68 0.72 0.71 0.62 0.68]\n",
      "0\n",
      "1\n",
      "2\n",
      "3\n",
      "4\n",
      "[0.6  0.75 0.7  0.67 0.67]\n"
     ]
    }
   ],
   "source": [
    "for _ in range(3):\n",
    "    n = 4\n",
    "    t = 3\n",
    "    trials = 5\n",
    "    repeats = 100\n",
    "    tests = np.zeros(trials)\n",
    "    all_offsets = np.random.random((trials, n, t))*0.01\n",
    "    for i in range(trials):\n",
    "        print(i)\n",
    "        wins = 0\n",
    "        for _ in range(repeats):\n",
    "            items = [10]*len(loser[0])\n",
    "            valuations = loser + all_offsets[i, :, :]\n",
    "            data = (n,t, np.zeros((n,t)), items, valuations)\n",
    "            out = run_rr(inputs=data)\n",
    "            assert check_all_efx(out[2], out[4]), \"EFX SHOULD HOLD\"\n",
    "            wins += check_all_done(out[2], out[3])\n",
    "        tests[i] = wins/repeats\n",
    "    print(tests)\n",
    "    loser = loser + all_offsets[np.argmin(tests), :, :]"
   ]
  },
  {
   "cell_type": "code",
   "execution_count": 1088,
   "id": "136769a1",
   "metadata": {},
   "outputs": [],
   "source": [
    "from scipy.optimize import minimize"
   ]
  },
  {
   "cell_type": "code",
   "execution_count": 1153,
   "id": "97c65968",
   "metadata": {},
   "outputs": [],
   "source": [
    "def test(inp, repeats=1000):\n",
    "    n = 2\n",
    "    t = 3\n",
    "    valuations = inp.reshape((n, t))\n",
    " \n",
    "    wins = 0\n",
    "    for _ in range(repeats):\n",
    "        items = [2, 1, 1] #hardcoded in\n",
    "        data = (n,t, np.zeros((n,t)), items, valuations)\n",
    "        out = run_rr(inputs=data)\n",
    "        assert check_all_efx(out[2], out[4]), \"EFX SHOULD HOLD\"\n",
    "        wins += check_all_done(out[2], out[3])\n",
    "    return wins/repeats"
   ]
  },
  {
   "cell_type": "code",
   "execution_count": 1157,
   "id": "2cc9e771",
   "metadata": {},
   "outputs": [
    {
     "data": {
      "text/plain": [
       "0.488"
      ]
     },
     "execution_count": 1157,
     "metadata": {},
     "output_type": "execute_result"
    }
   ],
   "source": [
    "test(np.array([1.01875, 1.01875, 4.125  , 3.05625, 0.925  , 4.075  ]))"
   ]
  },
  {
   "cell_type": "code",
   "execution_count": 1121,
   "id": "b6c5c037",
   "metadata": {},
   "outputs": [],
   "source": [
    "new_loser = make_out(1)[4].reshape(-1)"
   ]
  },
  {
   "cell_type": "code",
   "execution_count": 1159,
   "id": "51217b9e",
   "metadata": {},
   "outputs": [
    {
     "data": {
      "text/plain": [
       "   direc: array([[1., 0., 0., 0., 0., 0.],\n",
       "       [0., 1., 0., 0., 0., 0.],\n",
       "       [0., 0., 1., 0., 0., 0.],\n",
       "       [0., 0., 0., 1., 0., 0.],\n",
       "       [0., 0., 0., 0., 1., 0.],\n",
       "       [0., 0., 0., 0., 0., 1.]])\n",
       "     fun: 0.479\n",
       " message: 'Optimization terminated successfully.'\n",
       "    nfev: 89\n",
       "     nit: 1\n",
       "  status: 0\n",
       " success: True\n",
       "       x: array([ 0.45384999,  1.381966  ,  3.00000002,  2.98328374, -0.67219124,\n",
       "        4.84825532])"
      ]
     },
     "execution_count": 1159,
     "metadata": {},
     "output_type": "execute_result"
    }
   ],
   "source": [
    "minimize(test,x0=new_loser.reshape(-1), method='Powell', options={'maxiter': 2})"
   ]
  },
  {
   "cell_type": "code",
   "execution_count": null,
   "id": "a6f6b25c",
   "metadata": {},
   "outputs": [],
   "source": []
  },
  {
   "cell_type": "code",
   "execution_count": 126,
   "id": "a019c40c",
   "metadata": {},
   "outputs": [],
   "source": [
    "new_loser =np.array( [0.22836632, 5.25399287, 5.8437487 , 7.91702737, 7.13756416,\n",
    "       8.71194301, 3.25935665, 2.87719414, 9.99483373, 7.85842655,\n",
    "       3.7849645 , 4.7564503 ])"
   ]
  },
  {
   "cell_type": "code",
   "execution_count": 4,
   "id": "ed05d261",
   "metadata": {},
   "outputs": [],
   "source": [
    "# most of the slowdown is checking EFX\n",
    "# could 2-3x the speedup by improving this\n",
    "\n",
    "# %prun run_rr(inputs=data)"
   ]
  },
  {
   "cell_type": "markdown",
   "id": "2898e0f7",
   "metadata": {},
   "source": [
    "# what about even better?"
   ]
  },
  {
   "cell_type": "markdown",
   "id": "7cc61caf",
   "metadata": {},
   "source": [
    "let's give items to sources that aren't sinks first"
   ]
  },
  {
   "cell_type": "code",
   "execution_count": 389,
   "id": "cc79cc45",
   "metadata": {},
   "outputs": [],
   "source": [
    "def run_rr2(inputs=None, random=False):\n",
    "    n, t, assignments, items, valuations = inputs if inputs else setup()\n",
    "    # algorithm\n",
    "    while True:\n",
    "        # assert partial EFX\n",
    "#         assert check_all_efx(assignments, valuations), \"this should be partial EFX\"\n",
    "        # de cycle graph if needed\n",
    "        G = create_envy_digraph(assignments, valuations, n)\n",
    "        is_cycle, cycle = locate_envy_cycle(G)\n",
    "        while is_cycle:\n",
    "#             print(\"DE-CYCLING GRAPH\")\n",
    "            cycle_mask = cycle\n",
    "            cycle_mask_new = cycle_mask[1:] + cycle_mask[0:1]\n",
    "            assignments[cycle_mask_new] = assignments[cycle_mask]\n",
    "            G = create_envy_digraph(assignments, valuations, n)\n",
    "            is_cycle, cycle = locate_envy_cycle(G)\n",
    "        assert is_directed_acyclic_graph(G)\n",
    "        # check if done\n",
    "        if check_all_done(assignments, items):\n",
    "#             print(\"DONE\")\n",
    "            return n, t, assignments, items, valuations\n",
    "        # find a source and assign it its favorite item\n",
    "        all_sources = [s for s,d in G.in_degree() if d == 0]\n",
    "        all_sinks = [s for s,d in G.out_degree() if d == 0]\n",
    "        source_not_sink = list(set(all_sources) - set(all_sinks))\n",
    "        source_and_sink = list(set(all_sources).intersection(all_sinks))\n",
    "        if random:\n",
    "            print('randomizing')\n",
    "            np.random.shuffle(source_not_sink)\n",
    "            np.random.shuffle(source_and_sink)\n",
    "        sources = source_not_sink + source_and_sink\n",
    "#         np.random.shuffle(all_sources)\n",
    "#         print(all_sources)\n",
    "        added_item = False\n",
    "        for s in sources:\n",
    "            prefs = np.argsort(valuations[s,:])[::-1]\n",
    "            for p in prefs:\n",
    "                if item_type_available(assignments, items, p):\n",
    "                    # if available but not EFX, dont use this source\n",
    "                    assignments[s,p] += 1\n",
    "                    if check_all_efx(assignments, valuations):\n",
    "#                         print(\"assigning type\", p, \"to player\", s)\n",
    "                        added_item = True\n",
    "                    else:\n",
    "                        assignments[s,p] -= 1\n",
    "                    break\n",
    "            if added_item:\n",
    "                break\n",
    "        if added_item:\n",
    "            continue\n",
    "#         print(\"COULDNT ADD ITEM(?)\")\n",
    "        return n, t, assignments, items, valuations"
   ]
  },
  {
   "cell_type": "code",
   "execution_count": 371,
   "id": "9368d19d",
   "metadata": {},
   "outputs": [
    {
     "name": "stdout",
     "output_type": "stream",
     "text": [
      "0\n",
      "100\n",
      "200\n",
      "i =  270 trying again...\n",
      "300\n",
      "400\n",
      "500\n",
      "600\n",
      "700\n",
      "800\n",
      "i =  885 trying again...\n",
      "900\n"
     ]
    }
   ],
   "source": [
    "n = 3\n",
    "t = 3\n",
    "trials = 1000\n",
    "all_items = np.random.randint(10, 11, (trials, t)) # start with 10 items each to reduce randomness\n",
    "all_valuations = np.random.random((trials, n,t))*10\n",
    "\n",
    "for i in range(trials):\n",
    "    if i % 100 == 0:\n",
    "        print(i)\n",
    "    items = all_items[i, :]\n",
    "    valuations = all_valuations[i, :, :]\n",
    "    data = (n,t, np.zeros((n,t)), items, valuations)\n",
    "    \n",
    "    out = run_rr2(inputs=data)\n",
    "    assert check_all_efx(out[2], out[4]), \"EFX SHOULD HOLD\"\n",
    "    while not check_all_done(out[2], out[3]):\n",
    "        print('i = ', i, 'trying again...')\n",
    "        break\n",
    "        data = (n,t, np.zeros((n,t)), items, valuations)\n",
    "        out = run_rr2(inputs=data)  # \"ALL ITEMS SHOULD BE ALLOCATED\""
   ]
  },
  {
   "cell_type": "code",
   "execution_count": 369,
   "id": "599a03d9",
   "metadata": {},
   "outputs": [
    {
     "data": {
      "text/plain": [
       "(3,\n",
       " 3,\n",
       " array([[0., 0., 8.],\n",
       "        [5., 5., 0.],\n",
       "        [5., 2., 2.]]),\n",
       " array([10, 10, 10]),\n",
       " array([[7.91158327, 9.02878016, 9.66212463],\n",
       "        [6.49925211, 4.21902796, 2.62852868],\n",
       "        [9.60887118, 0.55570066, 9.0694819 ]]))"
      ]
     },
     "execution_count": 369,
     "metadata": {},
     "output_type": "execute_result"
    }
   ],
   "source": [
    "out"
   ]
  },
  {
   "cell_type": "code",
   "execution_count": 373,
   "id": "0431cd5b",
   "metadata": {},
   "outputs": [],
   "source": [
    "from numpy import array"
   ]
  },
  {
   "cell_type": "code",
   "execution_count": 476,
   "id": "bf57685a",
   "metadata": {},
   "outputs": [
    {
     "name": "stdout",
     "output_type": "stream",
     "text": [
      "randomizing\n",
      "randomizing\n",
      "randomizing\n",
      "randomizing\n",
      "randomizing\n",
      "randomizing\n",
      "randomizing\n",
      "randomizing\n",
      "randomizing\n",
      "randomizing\n",
      "randomizing\n",
      "randomizing\n",
      "randomizing\n",
      "randomizing\n",
      "randomizing\n",
      "randomizing\n",
      "randomizing\n",
      "randomizing\n",
      "randomizing\n",
      "randomizing\n",
      "randomizing\n",
      "randomizing\n",
      "randomizing\n",
      "randomizing\n",
      "randomizing\n",
      "randomizing\n",
      "randomizing\n",
      "randomizing\n"
     ]
    },
    {
     "data": {
      "text/plain": [
       "(3,\n",
       " 3,\n",
       " array([[0., 0., 8.],\n",
       "        [5., 5., 0.],\n",
       "        [5., 2., 2.]]),\n",
       " array([10,  8, 10]),\n",
       " array([[7.91158327, 9.02878016, 9.66212463],\n",
       "        [6.49925211, 4.21902796, 2.62852868],\n",
       "        [9.60887118, 0.55570066, 9.0694819 ]]))"
      ]
     },
     "execution_count": 476,
     "metadata": {},
     "output_type": "execute_result"
    }
   ],
   "source": [
    "run_rr2((3,\n",
    " 3,\n",
    " np.zeros((n,t)),\n",
    " array([10, 8, 10]),\n",
    " array([[7.91158327, 9.02878016, 9.66212463],\n",
    "        [6.49925211, 4.21902796, 2.62852868],\n",
    "        [9.60887118, 0.55570066, 9.0694819 ]])), random=True)"
   ]
  },
  {
   "cell_type": "code",
   "execution_count": 423,
   "id": "2a4c11b8",
   "metadata": {},
   "outputs": [
    {
     "data": {
      "text/plain": [
       "array([1. , 1. , 1. , 1. , 1. , 1. , 1. , 1. , 1. , 1. , 1. , 1. , 1. ,\n",
       "       1. , 1. , 1. , 1. , 1. , 1. , 1. , 1. , 1. , 1. , 1. , 1. , 1. ,\n",
       "       1. , 1. , 1. , 1. , 1. , 1. , 1. , 1. , 1. , 1. , 1. , 1. , 1. ,\n",
       "       1. , 1. , 0.7, 1. , 1. , 1. , 1. , 1. , 1. , 1. , 1. , 1. , 1. ,\n",
       "       1. , 1. , 1. , 1. , 1. , 1. , 1. , 1. , 1. , 1. , 1. , 1. , 1. ,\n",
       "       1. , 1. , 1. , 1. , 1. , 1. , 1. , 1. , 1. , 1. , 1. , 1. , 1. ,\n",
       "       1. , 1. , 1. , 1. , 1. , 1. , 1. , 1. , 1. , 1. , 1. , 1. , 1. ,\n",
       "       1. , 1. , 1. , 1. , 1. , 1. , 1. , 1. , 1. , 1. , 1. , 1. , 1. ,\n",
       "       1. , 1. , 1. , 1. , 1. , 1. , 1. , 1. , 1. , 1. , 1. , 1. , 1. ,\n",
       "       1. , 1. , 1. , 1. , 1. , 1. , 1. , 1. , 1. , 1. , 1. , 1. , 1. ,\n",
       "       1. , 1. , 1. , 1. , 1. , 1. , 1. , 1. , 1. , 1. , 1. , 1. , 1. ,\n",
       "       1. , 1. , 1. , 1. , 1. , 1. , 1. , 1. , 1. , 1. , 1. , 1. , 1. ,\n",
       "       1. , 1. , 1. , 1. , 1. , 1. , 1. , 1. , 1. , 1. , 1. , 1. , 1. ,\n",
       "       1. , 1. , 1. , 1. , 1. , 1. , 1. , 1. , 1. , 1. , 1. , 1. , 1. ,\n",
       "       1. , 1. , 1. , 1. , 1. , 1. , 1. , 1. , 1. , 1. , 1. , 1. , 1. ,\n",
       "       1. , 1. , 1. , 1. , 1. ])"
      ]
     },
     "execution_count": 423,
     "metadata": {},
     "output_type": "execute_result"
    }
   ],
   "source": [
    "successes"
   ]
  },
  {
   "cell_type": "code",
   "execution_count": null,
   "id": "2b7e7572",
   "metadata": {},
   "outputs": [],
   "source": []
  },
  {
   "cell_type": "markdown",
   "id": "9248b665",
   "metadata": {},
   "source": [
    "Could prove: if EFX exists, there's an EFX solution that is reachable by the algorithm.\n",
    "\n",
    "That is, at most $3^t$ bundles. Any two players with same preference order have same number of favorite, next favorite, ..., until difference of exactly 1."
   ]
  },
  {
   "cell_type": "markdown",
   "id": "c4967075",
   "metadata": {},
   "source": [
    "EFX exists, means there is a setup B_1, ..., B_N so that union of B_i is all m goods. and B_1, to B_N are in EFX. \n",
    "\n",
    "Can we adjust items and always improve a measure that gets there?\n",
    "\n",
    "what about when t=2? then there is a b_1, ..., b_n... that is in EFX, that's in the convex hull of points, or so...\n",
    "Can we always reduce them inwards? Can we do it with some small number of charity?\n",
    "\n",
    "Really, if EFX exists everywhere, will it exist everywhere with 3^t bundles?"
   ]
  },
  {
   "cell_type": "code",
   "execution_count": null,
   "id": "85a09064",
   "metadata": {},
   "outputs": [],
   "source": []
  }
 ],
 "metadata": {
  "kernelspec": {
   "display_name": "Python 3 (ipykernel)",
   "language": "python",
   "name": "python3"
  },
  "language_info": {
   "codemirror_mode": {
    "name": "ipython",
    "version": 3
   },
   "file_extension": ".py",
   "mimetype": "text/x-python",
   "name": "python",
   "nbconvert_exporter": "python",
   "pygments_lexer": "ipython3",
   "version": "3.8.8"
  }
 },
 "nbformat": 4,
 "nbformat_minor": 5
}
