{
 "cells": [
  {
   "cell_type": "code",
   "execution_count": 167,
   "id": "e0fb3c4d",
   "metadata": {},
   "outputs": [
    {
     "name": "stdout",
     "output_type": "stream",
     "text": [
      "loaded efx algorithm\n"
     ]
    }
   ],
   "source": [
    "%run efx_charity"
   ]
  },
  {
   "cell_type": "markdown",
   "id": "3f12f0d2",
   "metadata": {},
   "source": [
    "## Example"
   ]
  },
  {
   "cell_type": "code",
   "execution_count": 219,
   "id": "3bbe470b",
   "metadata": {},
   "outputs": [
    {
     "name": "stdout",
     "output_type": "stream",
     "text": [
      "APPLIED U0\n",
      "APPLIED U0\n",
      "APPLIED U0\n",
      "APPLIED U0\n",
      "APPLIED U0\n",
      "APPLIED U0\n",
      "APPLIED U0\n",
      "APPLIED U0\n",
      "APPLIED U0\n",
      "APPLIED U0\n",
      "APPLIED U0\n",
      "APPLIED U0\n",
      "APPLIED U0\n",
      "APPLIED U0\n",
      "APPLIED U0\n",
      "APPLIED U0\n",
      "APPLIED U0\n",
      "APPLIED U0\n",
      "APPLIED U0\n",
      "APPLIED U0\n",
      "APPLIED U0\n",
      "APPLIED U0\n",
      "APPLIED U0\n",
      "APPLIED U0\n",
      "APPLIED U0\n",
      "APPLIED U0\n",
      "APPLIED U0\n",
      "APPLIED U0\n",
      "APPLIED U0\n",
      "APPLIED U0\n",
      "APPLIED U0\n",
      "APPLIED U0\n",
      "APPLIED U0\n",
      "APPLIED U0\n",
      "APPLIED U0\n",
      "APPLIED U0\n",
      "APPLIED U0\n",
      "APPLIED U0\n",
      "APPLIED U0\n",
      "APPLIED U0\n",
      "COULD NOT APPLY U0\n",
      "trying U2 with source: 1\n",
      "APPLIED U2\n",
      "APPLIED U0\n",
      "APPLIED U0\n",
      "APPLIED U0\n",
      "APPLIED U0\n",
      "APPLIED U0\n",
      "APPLIED U0\n",
      "APPLIED U0\n",
      "APPLIED U0\n",
      "APPLIED U0\n",
      "APPLIED U0\n",
      "APPLIED U0\n",
      "APPLIED U0\n",
      "APPLIED U0\n",
      "APPLIED U0\n",
      "APPLIED U0\n",
      "APPLIED U0\n",
      "DONE\n",
      "player 0 assignments: [ 6. 10.  0.]\n",
      "player 1 assignments: [ 4. 12.  4.]\n",
      "player 2 assignments: [0. 8. 6.]\n"
     ]
    },
    {
     "data": {
      "text/plain": [
       "(3,\n",
       " 3,\n",
       " array([[ 6., 10.,  0.],\n",
       "        [ 4., 12.,  4.],\n",
       "        [ 0.,  8.,  6.]]),\n",
       " array([10., 30., 10.]),\n",
       " array([[ 4.2,  2. ,  1. ],\n",
       "        [ 3. ,  2.5,  0.1],\n",
       "        [ 1. ,  5. , 29. ]]))"
      ]
     },
     "execution_count": 219,
     "metadata": {},
     "output_type": "execute_result"
    },
    {
     "data": {
      "image/png": "[encoded data removed]",
      "text/plain": [
       "<Figure size 432x288 with 1 Axes>"
      ]
     },
     "metadata": {},
     "output_type": "display_data"
    }
   ],
   "source": [
    "#n, t, assignments, items, valuations\n",
    "data = (3,3,\n",
    " np.zeros((3,3)),\n",
    " np.array([10., 30., 10.]),\n",
    " np.array([[4.2, 2., 1],\n",
    "        [3., 2.5, 0.1],\n",
    "        [1., 5., 29]]))\n",
    "run_and_check(draw=True, inputs=data, log=True)"
   ]
  },
  {
   "cell_type": "markdown",
   "id": "013b7e71",
   "metadata": {},
   "source": [
    "## Randomly generate cases"
   ]
  },
  {
   "cell_type": "code",
   "execution_count": 246,
   "id": "e8877b3b",
   "metadata": {},
   "outputs": [
    {
     "name": "stdout",
     "output_type": "stream",
     "text": [
      "0\n",
      "DONE\n",
      "player 0 assignments: [7. 2.]\n",
      "player 1 assignments: [7. 1.]\n",
      "player 2 assignments: [6. 2.]\n",
      "1\n",
      "DONE\n",
      "player 0 assignments: [7. 2.]\n",
      "player 1 assignments: [7. 1.]\n",
      "player 2 assignments: [6. 2.]\n",
      "2\n",
      "DONE\n",
      "player 0 assignments: [7. 2.]\n",
      "player 1 assignments: [7. 1.]\n",
      "player 2 assignments: [6. 2.]\n",
      "3\n",
      "DONE\n",
      "player 0 assignments: [4. 3.]\n",
      "player 1 assignments: [8. 1.]\n",
      "player 2 assignments: [8. 1.]\n",
      "4\n",
      "DONE\n",
      "player 0 assignments: [7. 2.]\n",
      "player 1 assignments: [7. 1.]\n",
      "player 2 assignments: [6. 2.]\n",
      "5\n",
      "DONE\n",
      "player 0 assignments: [6. 3.]\n",
      "player 1 assignments: [7. 1.]\n",
      "player 2 assignments: [7. 1.]\n",
      "6\n",
      "DONE\n",
      "player 0 assignments: [7. 1.]\n",
      "player 1 assignments: [7. 1.]\n",
      "player 2 assignments: [6. 3.]\n",
      "7\n",
      "DONE\n",
      "player 0 assignments: [8. 1.]\n",
      "player 1 assignments: [5. 3.]\n",
      "player 2 assignments: [7. 1.]\n",
      "8\n",
      "DONE\n",
      "player 0 assignments: [8. 1.]\n",
      "player 1 assignments: [4. 3.]\n",
      "player 2 assignments: [8. 1.]\n",
      "9\n",
      "DONE\n",
      "player 0 assignments: [7. 2.]\n",
      "player 1 assignments: [7. 1.]\n",
      "player 2 assignments: [6. 2.]\n",
      "10\n",
      "DONE\n",
      "player 0 assignments: [7. 2.]\n",
      "player 1 assignments: [7. 1.]\n",
      "player 2 assignments: [6. 2.]\n",
      "11\n",
      "DONE\n",
      "player 0 assignments: [7. 1.]\n",
      "player 1 assignments: [7. 1.]\n",
      "player 2 assignments: [6. 3.]\n",
      "12\n",
      "DONE\n",
      "player 0 assignments: [6. 3.]\n",
      "player 1 assignments: [7. 1.]\n",
      "player 2 assignments: [7. 1.]\n",
      "13\n",
      "DONE\n",
      "player 0 assignments: [8. 0.]\n",
      "player 1 assignments: [5. 5.]\n",
      "player 2 assignments: [7. 0.]\n",
      "14\n",
      "DONE\n",
      "player 0 assignments: [7. 2.]\n",
      "player 1 assignments: [7. 1.]\n",
      "player 2 assignments: [6. 2.]\n",
      "15\n",
      "DONE\n",
      "player 0 assignments: [7. 1.]\n",
      "player 1 assignments: [7. 1.]\n",
      "player 2 assignments: [6. 3.]\n",
      "16\n",
      "DONE\n",
      "player 0 assignments: [8. 0.]\n",
      "player 1 assignments: [5. 4.]\n",
      "player 2 assignments: [7. 1.]\n",
      "17\n",
      "DONE\n",
      "player 0 assignments: [10.  0.]\n",
      "player 1 assignments: [2. 3.]\n",
      "player 2 assignments: [8. 2.]\n",
      "18\n",
      "DONE\n",
      "player 0 assignments: [7. 2.]\n",
      "player 1 assignments: [7. 1.]\n",
      "player 2 assignments: [6. 2.]\n",
      "19\n",
      "DONE\n",
      "player 0 assignments: [7. 2.]\n",
      "player 1 assignments: [7. 1.]\n",
      "player 2 assignments: [6. 2.]\n",
      "20\n",
      "DONE\n",
      "player 0 assignments: [7. 2.]\n",
      "player 1 assignments: [7. 1.]\n",
      "player 2 assignments: [6. 2.]\n",
      "21\n",
      "DONE\n",
      "player 0 assignments: [7. 2.]\n",
      "player 1 assignments: [7. 1.]\n",
      "player 2 assignments: [6. 2.]\n",
      "22\n",
      "DONE\n",
      "player 0 assignments: [6. 2.]\n",
      "player 1 assignments: [5. 2.]\n",
      "player 2 assignments: [9. 1.]\n",
      "23\n",
      "DONE\n",
      "player 0 assignments: [6. 3.]\n",
      "player 1 assignments: [7. 1.]\n",
      "player 2 assignments: [7. 1.]\n",
      "24\n",
      "COULD NOT APPLY U2 (!)\n",
      "player 0 assignments: [7. 1.]\n",
      "player 1 assignments: [7. 1.]\n",
      "player 2 assignments: [6. 2.]\n"
     ]
    },
    {
     "ename": "AssertionError",
     "evalue": "ALL ITEMS SHOULD BE ALLOCATED",
     "output_type": "error",
     "traceback": [
      "\u001b[0;31m---------------------------------------------------------------------------\u001b[0m",
      "\u001b[0;31mAssertionError\u001b[0m                            Traceback (most recent call last)",
      "\u001b[0;32m/tmp/ipykernel_24811/1977367605.py\u001b[0m in \u001b[0;36m<module>\u001b[0;34m\u001b[0m\n\u001b[1;32m      6\u001b[0m     \u001b[0mvaluations\u001b[0m \u001b[0;34m=\u001b[0m \u001b[0mnp\u001b[0m\u001b[0;34m.\u001b[0m\u001b[0mrandom\u001b[0m\u001b[0;34m.\u001b[0m\u001b[0mrandom\u001b[0m\u001b[0;34m(\u001b[0m\u001b[0;34m(\u001b[0m\u001b[0mn\u001b[0m\u001b[0;34m,\u001b[0m\u001b[0mt\u001b[0m\u001b[0;34m)\u001b[0m\u001b[0;34m)\u001b[0m\u001b[0;34m*\u001b[0m\u001b[0;36m10\u001b[0m\u001b[0;34m\u001b[0m\u001b[0;34m\u001b[0m\u001b[0m\n\u001b[1;32m      7\u001b[0m     \u001b[0mdata\u001b[0m \u001b[0;34m=\u001b[0m \u001b[0;34m(\u001b[0m\u001b[0mn\u001b[0m\u001b[0;34m,\u001b[0m\u001b[0mt\u001b[0m\u001b[0;34m,\u001b[0m \u001b[0mnp\u001b[0m\u001b[0;34m.\u001b[0m\u001b[0mzeros\u001b[0m\u001b[0;34m(\u001b[0m\u001b[0;34m(\u001b[0m\u001b[0mn\u001b[0m\u001b[0;34m,\u001b[0m\u001b[0mt\u001b[0m\u001b[0;34m)\u001b[0m\u001b[0;34m)\u001b[0m\u001b[0;34m,\u001b[0m \u001b[0mitems\u001b[0m\u001b[0;34m,\u001b[0m \u001b[0mvaluations\u001b[0m\u001b[0;34m)\u001b[0m\u001b[0;34m\u001b[0m\u001b[0;34m\u001b[0m\u001b[0m\n\u001b[0;32m----> 8\u001b[0;31m     \u001b[0mrun_and_check\u001b[0m\u001b[0;34m(\u001b[0m\u001b[0mdraw\u001b[0m\u001b[0;34m=\u001b[0m\u001b[0;32mFalse\u001b[0m\u001b[0;34m,\u001b[0m \u001b[0minputs\u001b[0m\u001b[0;34m=\u001b[0m\u001b[0mdata\u001b[0m\u001b[0;34m,\u001b[0m \u001b[0mlog\u001b[0m\u001b[0;34m=\u001b[0m\u001b[0;32mFalse\u001b[0m\u001b[0;34m)\u001b[0m\u001b[0;34m\u001b[0m\u001b[0;34m\u001b[0m\u001b[0m\n\u001b[0m",
      "\u001b[0;32m~/Desktop/efx/efx_charity.py\u001b[0m in \u001b[0;36mrun_and_check\u001b[0;34m(draw, **kwargs)\u001b[0m\n\u001b[1;32m    282\u001b[0m         \u001b[0mprint\u001b[0m\u001b[0;34m(\u001b[0m\u001b[0;34m'player'\u001b[0m\u001b[0;34m,\u001b[0m \u001b[0midx\u001b[0m\u001b[0;34m,\u001b[0m \u001b[0;34m'assignments:'\u001b[0m\u001b[0;34m,\u001b[0m \u001b[0mrow\u001b[0m\u001b[0;34m)\u001b[0m\u001b[0;34m\u001b[0m\u001b[0;34m\u001b[0m\u001b[0m\n\u001b[1;32m    283\u001b[0m     \u001b[0;32massert\u001b[0m \u001b[0mcheck_all_efx\u001b[0m\u001b[0;34m(\u001b[0m\u001b[0massignments\u001b[0m\u001b[0;34m,\u001b[0m \u001b[0mvaluations\u001b[0m\u001b[0;34m)\u001b[0m\u001b[0;34m,\u001b[0m \u001b[0;34m\"EFX SHOULD HOLD\"\u001b[0m\u001b[0;34m\u001b[0m\u001b[0;34m\u001b[0m\u001b[0m\n\u001b[0;32m--> 284\u001b[0;31m     \u001b[0;32massert\u001b[0m \u001b[0mcheck_all_done\u001b[0m\u001b[0;34m(\u001b[0m\u001b[0massignments\u001b[0m\u001b[0;34m,\u001b[0m \u001b[0mitems\u001b[0m\u001b[0;34m)\u001b[0m\u001b[0;34m,\u001b[0m \u001b[0;34m\"ALL ITEMS SHOULD BE ALLOCATED\"\u001b[0m\u001b[0;34m\u001b[0m\u001b[0;34m\u001b[0m\u001b[0m\n\u001b[0m\u001b[1;32m    285\u001b[0m     \u001b[0;32mif\u001b[0m \u001b[0mdraw\u001b[0m\u001b[0;34m:\u001b[0m\u001b[0;34m\u001b[0m\u001b[0;34m\u001b[0m\u001b[0m\n\u001b[1;32m    286\u001b[0m         \u001b[0mdraw_envy\u001b[0m\u001b[0;34m(\u001b[0m\u001b[0massignments\u001b[0m\u001b[0;34m,\u001b[0m \u001b[0mvaluations\u001b[0m\u001b[0;34m,\u001b[0m \u001b[0mn\u001b[0m\u001b[0;34m)\u001b[0m\u001b[0;34m\u001b[0m\u001b[0;34m\u001b[0m\u001b[0m\n",
      "\u001b[0;31mAssertionError\u001b[0m: ALL ITEMS SHOULD BE ALLOCATED"
     ]
    }
   ],
   "source": [
    "n = 3\n",
    "t = 2\n",
    "items = [20, 5]\n",
    "for i in range(100):\n",
    "    print(i)\n",
    "    valuations = np.random.random((n,t))*10\n",
    "    data = (n,t, np.zeros((n,t)), items, valuations)\n",
    "    run_and_check(draw=False, inputs=data, log=False)"
   ]
  },
  {
   "cell_type": "code",
   "execution_count": null,
   "id": "36495202",
   "metadata": {},
   "outputs": [],
   "source": []
  }
 ],
 "metadata": {
  "kernelspec": {
   "display_name": "Python 3 (ipykernel)",
   "language": "python",
   "name": "python3"
  },
  "language_info": {
   "codemirror_mode": {
    "name": "ipython",
    "version": 3
   },
   "file_extension": ".py",
   "mimetype": "text/x-python",
   "name": "python",
   "nbconvert_exporter": "python",
   "pygments_lexer": "ipython3",
   "version": "3.8.8"
  }
 },
 "nbformat": 4,
 "nbformat_minor": 5
}
