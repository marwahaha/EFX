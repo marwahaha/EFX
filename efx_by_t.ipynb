{
 "cells": [
  {
   "cell_type": "markdown",
   "id": "adopted-video",
   "metadata": {},
   "source": [
    "# EFX algorithms for homogeneous items"
   ]
  },
  {
   "cell_type": "code",
   "execution_count": 1,
   "id": "hydraulic-leadership",
   "metadata": {
    "tags": []
   },
   "outputs": [],
   "source": [
    "import numpy as np"
   ]
  },
  {
   "cell_type": "code",
   "execution_count": 2,
   "id": "genetic-coaching",
   "metadata": {
    "tags": []
   },
   "outputs": [],
   "source": [
    "def check_all_efx(assignments, vals):\n",
    "    for j in range(len(assignments)):\n",
    "        if not check_efx(assignments, vals, j):\n",
    "            return False\n",
    "    return True\n",
    "\n",
    "def check_efx(assignments, vals, j):\n",
    "    my_value = vals[j].dot(assignments[j])\n",
    "    for i in range(len(assignments)):\n",
    "        ass = assignments[i]\n",
    "        ef_condition = vals[j].dot(ass) <= my_value\n",
    "        if ef_condition:\n",
    "            continue\n",
    "\n",
    "        for l in range(len(ass)):\n",
    "            if ass[l] > 0:\n",
    "                new_vec = list(ass[:l]) + [ass[l] - 1] + list(ass[l+1:])\n",
    "                condition = vals[j].dot(new_vec) <= my_value\n",
    "                if not condition:\n",
    "                    return False\n",
    "    return True\n",
    "\n",
    "def get_all_envy(assignments, vals):\n",
    "    return np.array([get_envy(assignments, vals, j) for j in range(len(assignments))])\n",
    "\n",
    "def get_envy(assignments, vals, j):\n",
    "    my_value = vals[j].dot(assignments[j])\n",
    "    envied = []\n",
    "    for i in range(len(assignments)):\n",
    "        ass = assignments[i]\n",
    "        ef_delta = vals[j].dot(ass) - my_value\n",
    "        envied.append(ef_delta)\n",
    "    return envied\n",
    "\n",
    "def get_envied_by(assignments, vals, i):\n",
    "    envied_by = []\n",
    "    ass = assignments[i]\n",
    "    for j in range(len(assignments)):\n",
    "        ef_delta = vals[j].dot(ass) - vals[j].dot(assignments[j])\n",
    "        envied_by.append(ef_delta)\n",
    "    return envied_by"
   ]
  },
  {
   "cell_type": "markdown",
   "id": "sought-stable",
   "metadata": {},
   "source": [
    "# Algorithm for EFX at t=2"
   ]
  },
  {
   "cell_type": "code",
   "execution_count": 3,
   "id": "stable-plumbing",
   "metadata": {
    "tags": []
   },
   "outputs": [],
   "source": [
    "def scale_inputs(valuations, items):\n",
    "    valuations = np.array(valuations)\n",
    "\n",
    "    top_prefs = np.argmax(valuations, axis=1)\n",
    "    num_ppl = [sum(top_prefs == i) for i in range(len(items))]\n",
    "\n",
    "    if items[0]/num_ppl[0] < items[1]/num_ppl[1]:\n",
    "        vals = valuations[:,:]\n",
    "    else:\n",
    "        items = items[::-1]\n",
    "        num_ppl = num_ppl[::-1]\n",
    "        vals = valuations[:,::-1]\n",
    "        \n",
    "    # scale everything\n",
    "    vals[:,0] /= vals[:,1]\n",
    "    vals[:,1] = 1\n",
    "    \n",
    "    # change sort order\n",
    "    order = np.argsort(vals[:,0])\n",
    "    vals = vals[order, :][::-1, :]\n",
    "\n",
    "    return vals, items"
   ]
  },
  {
   "cell_type": "code",
   "execution_count": 4,
   "id": "measured-isolation",
   "metadata": {
    "tags": []
   },
   "outputs": [],
   "source": [
    "def efx(vals, items, print_statements=False):\n",
    "    pr = print if print_statements else lambda x: x\n",
    "    n_players = len(vals)\n",
    "    assignments = np.array([(0,0)]*n_players)\n",
    "    items_left = np.copy(items)\n",
    "    top_prefs = np.argmax(vals, axis=1)\n",
    "    num_ppl = [sum(top_prefs == i) for i in range(len(items))]\n",
    "    assert check_all_efx(assignments, vals), \"NOT WORKING IN BEGINNING\"\n",
    "    \n",
    "    # assign one item each\n",
    "    while items_left[0] >= num_ppl[0]:\n",
    "        pr(items_left)\n",
    "        for idx in range(len(vals)):\n",
    "            if vals[idx,0] > 1:\n",
    "                # a-type person\n",
    "                items_left[0] -= 1\n",
    "                assignments[idx][0] += 1\n",
    "            else:\n",
    "                items_left[1] -= 1\n",
    "                assignments[idx][1] += 1\n",
    "            assert check_all_efx(assignments, vals), \"NOT WORKING IN INITIAL ROUND ROBIN\"\n",
    "    pr(items_left)\n",
    "    \n",
    "    # do leftovers:\n",
    "    leftover_ct = items_left[0]\n",
    "    for idx in range(leftover_ct):\n",
    "        assert vals[idx,0] > 1\n",
    "        items_left[0] -= 1\n",
    "        assignments[idx][0] += 1\n",
    "        assert check_all_efx(assignments, vals), \"NOT WORKING ASSIGNING LEFTOVERS\"\n",
    "    pr(items_left)\n",
    "    \n",
    "    # round robin skipping leftovers\n",
    "    idx = leftover_ct\n",
    "    num_rounds = 0\n",
    "    while leftover_ct != 0 and items_left[1] > 0 and num_rounds < np.ceil(vals[leftover_ct-1,:][0]):\n",
    "        items_left[1]-=1\n",
    "        assignments[idx][1] += 1\n",
    "        assert check_all_efx(assignments, vals), \"NOT WORKING ROUND ROBIN AFTER LEFTOVERS \" + str(idx) + \" \" + str(num_rounds)\n",
    "        idx += 1\n",
    "        if idx == n_players:\n",
    "            pr(items_left)\n",
    "            idx = leftover_ct\n",
    "            num_rounds += 1\n",
    "            \n",
    "    # round robin for all\n",
    "    idx = 0\n",
    "    while items_left[1] > 0:\n",
    "        items_left[1] -=1\n",
    "        assignments[idx][1] += 1\n",
    "        assert check_all_efx(assignments, vals), \"NOT WORKING FINAL ROUND ROBIN\"\n",
    "        idx += 1\n",
    "        if idx == n_players:\n",
    "            pr(items_left)\n",
    "            idx = 0\n",
    "    \n",
    "    pr(items_left)\n",
    "    assert check_all_efx(assignments, vals), \"EFX SHOULD HOLD\"\n",
    "    assert sum(items_left) == 0, \"SHOULD USE ALL ITEMS\"\n",
    "    assert np.all(np.sum(assignments, axis=0) == items), \"ALL ITEMS ALLOCATED\"\n",
    "    \n",
    "    return assignments"
   ]
  },
  {
   "cell_type": "markdown",
   "id": "arbitrary-floor",
   "metadata": {},
   "source": [
    "### Testing it out"
   ]
  },
  {
   "cell_type": "code",
   "execution_count": 5,
   "id": "accessible-polls",
   "metadata": {
    "tags": []
   },
   "outputs": [],
   "source": [
    "# t1, t2 valuations\n",
    "orig_valuations = [\n",
    "    (3,2),\n",
    "    (4,1),\n",
    "    (0.5,1),\n",
    "    (2,1),\n",
    "]\n",
    "\n",
    "orig_items = [10, 20]"
   ]
  },
  {
   "cell_type": "code",
   "execution_count": 6,
   "id": "danish-promise",
   "metadata": {
    "tags": []
   },
   "outputs": [
    {
     "name": "stdout",
     "output_type": "stream",
     "text": [
      "[[4.  1. ]\n",
      " [2.  1. ]\n",
      " [1.5 1. ]\n",
      " [0.5 1. ]] [10, 20]\n",
      "[10 20]\n",
      "[ 7 19]\n",
      "[ 4 18]\n",
      "[ 1 17]\n",
      "[ 0 17]\n",
      "[ 0 14]\n",
      "[ 0 11]\n",
      "[0 8]\n",
      "[0 5]\n",
      "[0 1]\n",
      "[0 0]\n"
     ]
    },
    {
     "data": {
      "text/plain": [
       "array([[4, 2],\n",
       "       [3, 5],\n",
       "       [3, 5],\n",
       "       [0, 8]])"
      ]
     },
     "execution_count": 6,
     "metadata": {},
     "output_type": "execute_result"
    }
   ],
   "source": [
    "vals, items = scale_inputs(orig_valuations, orig_items)\n",
    "print(vals, items)\n",
    "efx(vals, items, print_statements=True)"
   ]
  },
  {
   "cell_type": "code",
   "execution_count": 7,
   "id": "signal-folder",
   "metadata": {
    "tags": []
   },
   "outputs": [
    {
     "name": "stdout",
     "output_type": "stream",
     "text": [
      "CPU times: user 2.65 s, sys: 4.56 ms, total: 2.66 s\n",
      "Wall time: 2.65 s\n"
     ]
    }
   ],
   "source": [
    "%%time\n",
    "max_items = 40\n",
    "for i in range(max_items):\n",
    "    for j in range(max_items):\n",
    "        vals, items = scale_inputs(orig_valuations, [i,j])\n",
    "        efx(vals, items)"
   ]
  },
  {
   "cell_type": "markdown",
   "id": "covered-jacksonville",
   "metadata": {
    "tags": []
   },
   "source": [
    "Try random valuations too"
   ]
  },
  {
   "cell_type": "code",
   "execution_count": 8,
   "id": "english-brain",
   "metadata": {
    "tags": []
   },
   "outputs": [
    {
     "name": "stdout",
     "output_type": "stream",
     "text": [
      "CPU times: user 4.51 s, sys: 4.61 ms, total: 4.51 s\n",
      "Wall time: 4.51 s\n"
     ]
    }
   ],
   "source": [
    "%%time\n",
    "trials = 2\n",
    "n_players = 5\n",
    "max_items = 40\n",
    "for _ in range(trials):\n",
    "    vals = [(np.random.random(), np.random.random()) for _ in range(n_players)]\n",
    "    for i in range(max_items):\n",
    "        for j in range(max_items):\n",
    "            vals, items = scale_inputs(orig_valuations, [i,j])\n",
    "            efx(vals, items)"
   ]
  },
  {
   "cell_type": "markdown",
   "id": "sorted-penny",
   "metadata": {},
   "source": [
    "# Now: EFX t=3 (still a draft)"
   ]
  },
  {
   "cell_type": "code",
   "execution_count": 9,
   "id": "cloudy-repair",
   "metadata": {},
   "outputs": [],
   "source": [
    "def scale_inputs_t3(valuations, items):\n",
    "    valuations = np.array(valuations)\n",
    "\n",
    "    top_prefs = np.argmax(valuations, axis=1)\n",
    "    num_ppl = [sum(top_prefs == i) for i in range(len(items))]\n",
    "\n",
    "    # for now, sort by # items / # favorite players to get type a\n",
    "    sort_order = np.argsort([items[i]/num_ppl[i] for i in range(len(items))])\n",
    "    items = np.array(items)[sort_order]\n",
    "    num_ppl = np.array(num_ppl)[sort_order]\n",
    "    vals = valuations[:, sort_order]\n",
    "\n",
    "    # change sort order to be by strength of a-type over next-favorite type\n",
    "    order = np.argsort(vals[:,0]/np.max(vals[:, 1:], axis=1))\n",
    "    vals = vals[order, :][::-1, :]\n",
    "\n",
    "    return vals, items"
   ]
  },
  {
   "cell_type": "code",
   "execution_count": 311,
   "id": "fresh-letters",
   "metadata": {},
   "outputs": [],
   "source": [
    "def efx_t3(vals, items, print_statements=True, print_counts=True):\n",
    "    pr = print if print_statements else lambda *x: x\n",
    "    pr2 = print if print_counts else lambda *x: x\n",
    "    n_players = len(vals)\n",
    "    assignments = np.array([[0]*len(items)]*n_players)\n",
    "    items_left = np.copy(items)\n",
    "    top_prefs = np.argmax(vals, axis=1)\n",
    "    pr(\"type a:\", np.where(top_prefs == 0)[0])\n",
    "    pr(\"type b:\", np.where(top_prefs == 1)[0])\n",
    "    pr(\"type c:\", np.where(top_prefs == 2)[0])\n",
    "\n",
    "    num_ppl = [sum(top_prefs == i) for i in range(len(items))]\n",
    "    assert check_all_efx(assignments, vals), \"NOT WORKING IN BEGINNING\"\n",
    "\n",
    "    pr(\"everyone gets an item\")\n",
    "    # assign one item each\n",
    "    while items_left[0] >= num_ppl[0]:\n",
    "        pr2(items_left)\n",
    "        for idx in range(len(vals)):\n",
    "            pref = np.argmax(vals[idx])\n",
    "            items_left[pref] -= 1\n",
    "            assignments[idx][pref] += 1\n",
    "            assert check_all_efx(assignments, vals), \"NOT WORKING IN INITIAL ROUND ROBIN\"\n",
    "    pr2(items_left)\n",
    "\n",
    "    # assign leftovers\n",
    "    leftover_ct = items_left[0]\n",
    "    pr(\"num a leftovers:\", leftover_ct)\n",
    "    for idx in range(leftover_ct):\n",
    "        assert np.argmax(vals[idx]) == 0\n",
    "        items_left[0] -= 1\n",
    "        assignments[idx][0] += 1\n",
    "        assert check_all_efx(assignments, vals), \"NOT WORKING ASSIGNING LEFTOVERS\"\n",
    "    pr2(items_left)\n",
    "\n",
    "    pr(\"round robin without A+\")\n",
    "    # do round robin until full\n",
    "    idx = leftover_ct\n",
    "    num_rounds = 0\n",
    "    q_j = vals[leftover_ct-1][0] / np.max(vals[leftover_ct-1][1:])\n",
    "    while leftover_ct != 0 and num_rounds < np.ceil(q_j):\n",
    "        assert items_left[1] > 0, \"REMOVE THIS ASSUMPTION LATER (section 3.3)\"\n",
    "        assert items_left[2] > 0, \"REMOVE THIS ASSUMPTION LATER (section 3.3)\"\n",
    "\n",
    "        pref = np.argmax(vals[idx][1:]) + 1\n",
    "        assert pref != 0\n",
    "        items_left[pref] -=1\n",
    "        assignments[idx][pref] += 1\n",
    "        assert check_all_efx(assignments, vals), \"NOT WORKING ROUND ROBIN AFTER LEFTOVERS \" + str(idx) + \" \" + str(num_rounds)\n",
    "        idx += 1\n",
    "        if idx == n_players:\n",
    "            pr2(items_left)\n",
    "            idx = leftover_ct\n",
    "            num_rounds += 1\n",
    "\n",
    "\n",
    "    pr(\"round robin with everyone\")\n",
    "    top_prefs_no_a = np.argmax(vals[:,1:], axis=1) + 1\n",
    "    num_ppl_no_a = [sum(top_prefs_no_a == i) for i in range(len(items))]\n",
    "    # assign one item each until one item is nearly gone\n",
    "    while items_left[1] >= num_ppl_no_a[1] and items_left[2] >= num_ppl_no_a[2]:\n",
    "        pr2(items_left)\n",
    "        for idx in range(len(vals)):\n",
    "            pref = np.argmax(vals[idx, 1:])+1\n",
    "            items_left[pref] -= 1\n",
    "            assignments[idx][pref] += 1\n",
    "            assert check_all_efx(assignments, vals), \"NOT WORKING IN NO-A ROUND ROBIN\"\n",
    "    pr2(items_left)\n",
    "\n",
    "    type_a = 0\n",
    "    type_b = 1 if (items_left[1] < num_ppl_no_a[1]) else 2\n",
    "    type_c = 3 - type_b\n",
    "    pr(\"type b:\", type_b)\n",
    "\n",
    "    pr(\"num b leftovers:\", items_left[type_b])\n",
    "    a_plus_c_ppl = np.where(vals[:leftover_ct,type_b]<vals[:leftover_ct,type_c])[0]\n",
    "    a_plus_b_ppl = np.where(vals[:leftover_ct,type_b]>=vals[:leftover_ct,type_c])[0]\n",
    "    pr(\"a_plus_b_ppl:\", a_plus_b_ppl)\n",
    "    pr(\"a_plus_c_ppl:\", a_plus_c_ppl)\n",
    "    if items_left[type_b] == 0: \n",
    "        pr(\"no b leftovers, wow!\")\n",
    "        assert False, \"REMOVE THIS ASSUMPTION LATER (no b-leftovers) (Section 3.2)\"\n",
    "    else:\n",
    "        # first give out to the A+B and A+C ppl\n",
    "        pr(\"give b leftovers to A+ ppl\")\n",
    "        for idx in range(leftover_ct):\n",
    "            assert np.argmax(vals[idx]) == 0\n",
    "            pref = np.argmax(vals[idx, 1:])+1\n",
    "            assert items_left[pref] > 0, \"REMOVE THIS ASSUMPTION LATER (Section 3.2)\"\n",
    "            items_left[pref] -= 1\n",
    "            assignments[idx][pref] += 1\n",
    "            assert check_all_efx(assignments, vals), \"NOT WORKING ASSIGNING B LEFTOVERS TO PLUS PPL\"\n",
    "        pr2(items_left)\n",
    "\n",
    "    # sort by R_j\n",
    "    pr(\"R_j values:\", np.sort(vals[:,type_b]/vals[:, type_c])[::-1])\n",
    "    pr(\"All sorted by R_j:\", np.argsort(vals[:,type_b]/vals[:, type_c])[::-1])\n",
    "    new_sort_order = np.argsort(vals[leftover_ct:,type_b]/vals[leftover_ct:, type_c])[::-1] + leftover_ct\n",
    "    pr(\"Non A+ Sorted by R_j:\", new_sort_order)\n",
    "    # now give out remaining type-b items.\n",
    "    # assign leftovers\n",
    "    extra_b_leftover_ct = items_left[type_b]\n",
    "    extra_b_leftover_ppl = new_sort_order[:extra_b_leftover_ct]\n",
    "\n",
    "    a_minus_b_plus_ppl = extra_b_leftover_ppl[np.where(vals[extra_b_leftover_ppl,type_b]<vals[extra_b_leftover_ppl,type_a])[0]]\n",
    "    b_plus_ppl = extra_b_leftover_ppl[np.where(vals[extra_b_leftover_ppl,type_b]>=vals[extra_b_leftover_ppl,type_a])[0]]\n",
    "    pr(\"a_minus_b_plus_ppl:\", a_minus_b_plus_ppl)\n",
    "    pr(\"b_plus_ppl:\", b_plus_ppl)\n",
    "\n",
    "    pr(\"giving b leftovers\")\n",
    "    for idx in extra_b_leftover_ppl:\n",
    "        pref = np.argmax(vals[idx, 1:])+1\n",
    "        assert pref == type_b\n",
    "        items_left[pref] -= 1\n",
    "        assignments[idx][pref] += 1\n",
    "        assert check_all_efx(assignments, vals), \"NOT WORKING ASSIGNING B LEFTOVERS TO MINUS PPL\"\n",
    "    pr2(items_left)\n",
    "\n",
    "    # now give c's to to rest of players\n",
    "    other_players = new_sort_order[extra_b_leftover_ct:]\n",
    "    pr('other players:', other_players)\n",
    "    pr(\"giving cs round robin without B+, AB+\")\n",
    "    for idx in other_players:\n",
    "        if items_left[type_c] == 0:\n",
    "            break\n",
    "        items_left[type_c] -= 1\n",
    "        assignments[idx][type_c] += 1\n",
    "#         print(assignments)\n",
    "        assert check_all_efx(assignments, vals), \"NOT WORKING ASSIGNING C to rest of players (first time)\"\n",
    "    pr2(items_left)\n",
    "\n",
    "\n",
    "    # now give c's to rest of players, and A+C ?\n",
    "    # should probably loop this until something bad happens\n",
    "    go_again = True\n",
    "    do_step_9 = False\n",
    "    pr(\"go again loop\")\n",
    "    while go_again:\n",
    "        # any A^-B^+,B^+ people envying non b leftover ppl?\n",
    "        for idx in extra_b_leftover_ppl:\n",
    "            if np.any(np.array(get_envy(assignments, vals, idx))[other_players] > 0):\n",
    "                # is there also reverse envy? THERE REALLY SHOULDNT BE\n",
    "                pr(\"A-B+,B+ envies non-b-leftover ppl:\", idx)\n",
    "                reverse_envy = False\n",
    "                for jdx in other_players:\n",
    "                    if np.any(np.array(get_envy(assignments, vals, idx))[extra_b_leftover_ppl] > 0):\n",
    "                        reverse_envy = True\n",
    "                        break\n",
    "\n",
    "                if not reverse_envy:\n",
    "                    do_step_9 = True\n",
    "                    go_again = False\n",
    "                else:\n",
    "                    # do cycle\n",
    "                    assert False, \"THERE SHOULDNT BE REVERSE ENVY HERE\"\n",
    "\n",
    "        # any A+B people envying non b leftover ppl?\n",
    "        for idx in a_plus_b_ppl:\n",
    "            if np.any(np.array(get_envy(assignments, vals, idx))[other_players] > 0):\n",
    "                pr(\"A+B envies non-b-leftover ppl:\", idx)\n",
    "\n",
    "                # is there also reverse envy?\n",
    "                reverse_envy = False\n",
    "                for jdx in other_players:\n",
    "                    if np.any(np.array(get_envy(assignments, vals, idx))[a_plus_b_ppl] > 0):\n",
    "                        reverse_envy = True\n",
    "                        break\n",
    "                        # TODO -- make sure we always pick deterministically here\n",
    "\n",
    "                if not reverse_envy:\n",
    "                    pr(\"no reverse envy, go to step 10\")\n",
    "                    go_again = False\n",
    "                else:\n",
    "                    # do cycle\n",
    "                    assert False, \"LETS DO A CYCLE (to implement; i havent seen this yet...)\"\n",
    "\n",
    "        if items_left[type_c] == 0:\n",
    "            go_again = False\n",
    "            pr(\"DONE\")\n",
    "            \n",
    "        if not go_again:\n",
    "            break\n",
    "            \n",
    "        for idx in a_plus_c_ppl:\n",
    "            if items_left[type_c] == 0:\n",
    "                break\n",
    "            assert np.argmax(vals[idx]) == 0\n",
    "            pref = np.argmax(vals[idx, 1:])+1\n",
    "            assert pref == type_c\n",
    "            items_left[pref] -= 1\n",
    "            assignments[idx][pref] += 1\n",
    "            assert check_all_efx(assignments, vals), \"NOT WORKING ASSIGNING TO A PLUS C PPL (in go again loop)\"\n",
    "        pr2(items_left)\n",
    "\n",
    "        # now give c's to to rest of players\n",
    "        for idx in new_sort_order[extra_b_leftover_ct:]:\n",
    "            if items_left[type_c] == 0:\n",
    "                break\n",
    "            items_left[type_c] -= 1\n",
    "            assignments[idx][type_c] += 1\n",
    "            assert check_all_efx(assignments, vals), \"NOT WORKING ASSIGNING C to rest of ppl (in go again loop): \" + str(idx)\n",
    "        pr2(items_left)\n",
    "           \n",
    "            \n",
    "            \n",
    "            \n",
    "\n",
    "    if do_step_9:\n",
    "        pr(\"Step 9\")\n",
    "        # does any player in A+B envy a player in A-B+,B+?\n",
    "        keep_doing_step_9 = False\n",
    "        for idx in a_plus_b_ppl:\n",
    "            if np.any(np.array(get_envy(assignments, vals, idx))[extra_b_leftover_ppl] > 0):\n",
    "                keep_doing_step_9 = True\n",
    "                pr(\"A+B envies ppl in A-B+, B+:\", idx)\n",
    "                assert False, \"NEED TO FINISH STEP 9 (to implement, need a test case...)\"\n",
    "        do_step_9 = keep_doing_step_9\n",
    "            \n",
    "    pr(\"Step 10\")\n",
    "    while items_left[type_c] > 0:\n",
    "        # assign to type c through the list, as long as they are not currently envied\n",
    "        everyone_envied = True\n",
    "        for j in range(n_players):\n",
    "            if items_left[type_c] == 0:\n",
    "                break\n",
    "            if np.all(np.array(get_envied_by(assignments, vals, j)) <= 0):\n",
    "                everyone_envied =  False\n",
    "                items_left[type_c] -=1\n",
    "                assignments[j][type_c] += 1\n",
    "                assert check_all_efx(assignments, vals), \"NOT WORKING ASSIGNING C in finish line\"\n",
    "\n",
    "        assert not everyone_envied, \"SOMETHING WRONG IN STEP 10\"\n",
    "            \n",
    "        pr2(items_left)\n",
    "\n",
    "    assert check_all_efx(assignments, vals), \"EFX SHOULD HOLD\"\n",
    "    assert sum(items_left) == 0, \"SHOULD USE ALL ITEMS\"\n",
    "    assert np.all(np.sum(assignments, axis=0) == items), \"ALL ITEMS ALLOCATED\"\n",
    "    print(\"looks good\")\n",
    "    return assignments"
   ]
  },
  {
   "cell_type": "markdown",
   "id": "sought-seminar",
   "metadata": {},
   "source": [
    "### Testing it out"
   ]
  },
  {
   "cell_type": "code",
   "execution_count": 460,
   "id": "resistant-scholar",
   "metadata": {
    "tags": []
   },
   "outputs": [
    {
     "name": "stdout",
     "output_type": "stream",
     "text": [
      "looks good\n"
     ]
    }
   ],
   "source": [
    "n_players = 11\n",
    "t3_valuations = [(np.random.random(),np.random.random(),np.random.random()) for i in range(n_players)]\n",
    "t3_items = [int(np.random.random()*100) for _ in range(3)]\n",
    "vals, items = scale_inputs_t3(t3_valuations, t3_items)\n",
    "# print(vals, items)\n",
    "assignments = efx_t3(vals, items, print_statements=False, print_counts=False)"
   ]
  },
  {
   "cell_type": "code",
   "execution_count": null,
   "id": "outside-monthly",
   "metadata": {},
   "outputs": [],
   "source": []
  },
  {
   "cell_type": "markdown",
   "id": "olympic-personality",
   "metadata": {},
   "source": [
    "## Known Issues"
   ]
  },
  {
   "cell_type": "markdown",
   "id": "temporal-justice",
   "metadata": {},
   "source": [
    "These are the ones I've seen from random test cases:\n",
    "* section 3.2 not implemented\n",
    "* section 3.3 not implemented\n",
    "* step 9 not implemented\n",
    "* something wrong when assigning A+C  (I think this is because A+B envies A+C ... what do we do there?)\n",
    "* some (possibly a cycle?) in step 10 where everyone is envied by someone..."
   ]
  },
  {
   "cell_type": "code",
   "execution_count": null,
   "id": "higher-leadership",
   "metadata": {},
   "outputs": [],
   "source": []
  }
 ],
 "metadata": {
  "kernelspec": {
   "display_name": "Python 3",
   "language": "python",
   "name": "python3"
  },
  "language_info": {
   "codemirror_mode": {
    "name": "ipython",
    "version": 3
   },
   "file_extension": ".py",
   "mimetype": "text/x-python",
   "name": "python",
   "nbconvert_exporter": "python",
   "pygments_lexer": "ipython3",
   "version": "3.8.8"
  }
 },
 "nbformat": 4,
 "nbformat_minor": 5
}
